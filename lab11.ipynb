{
 "cells": [
  {
   "cell_type": "code",
   "execution_count": 1,
   "metadata": {},
   "outputs": [],
   "source": [
    "import matplotlib.pyplot as plt\n",
    "import pandas as pd\n",
    "import numpy as np"
   ]
  },
  {
   "cell_type": "markdown",
   "metadata": {},
   "source": [
    "---\n",
    ">> **HOMEWORK**\n",
    ">>\n",
    ">> http://insideairbnb.com/get-the-data.html\n",
    ">>\n",
    ">> Download unique city\n",
    ">> 1. Get top 10 landlords (most owned places, biggest salary when all places occupied)\n",
    ">> 2. How the prices change if we go for a week or month (listings)\n",
    ">> 3. How the apartment price depends on the evaluation of the location? What about cleanliness or other type of evaluations?\n",
    ">> 4. Find superhosts. What part of all the landlords are superhosts.\n",
    ">> 5. Longest comment (reviews_details)\n",
    ">> 6. Most commented apartment\n",
    ">> 7. From comment dates (reviews) report when there are most tourists in the city (plot comments vs dates)\n",
    ">> 8.\n",
    ">> 9.\n",
    ">> 10.\n",
    ">>\n",
    "---\n"
   ]
  },
  {
   "cell_type": "code",
   "execution_count": 2,
   "metadata": {},
   "outputs": [
    {
     "name": "stderr",
     "output_type": "stream",
     "text": [
      "/home/aleks/.local/lib/python3.7/site-packages/numpy/lib/arraysetops.py:568: FutureWarning: elementwise comparison failed; returning scalar instead, but in the future will perform elementwise comparison\n",
      "  mask |= (ar1 == a)\n"
     ]
    }
   ],
   "source": [
    "listings = pd.read_csv(\"~/Documents/bioa/data/Athens/listings.csv\", index_col=\"id\")\n",
    "listings_details = pd.read_csv(\n",
    "    \"~/Documents/bioa/data/Athens/listings_details.csv\",\n",
    "    index_col=\"id\",\n",
    "    low_memory=False,\n",
    ")\n",
    "calendar = pd.read_csv(\n",
    "    \"~/Documents/bioa/data/Athens/calendar.csv\",\n",
    "    parse_dates=[\"date\"],\n",
    "    index_col=[\"listing_id\"],\n",
    ")\n",
    "reviews = pd.read_csv(\n",
    "    \"~/Documents/bioa/data/Athens/reviews.csv\",\n",
    "    parse_dates=[\"date\"],\n",
    "    index_col=[\"listing_id\"],\n",
    ")\n",
    "reviews_details = pd.read_csv(\n",
    "    \"~/Documents/bioa/data/Athens/reviews_details.csv\",\n",
    "    parse_dates=[\"date\"],\n",
    "    index_col=[\"listing_id\"],\n",
    ")"
   ]
  },
  {
   "cell_type": "code",
   "execution_count": 3,
   "metadata": {
    "lines_to_next_cell": 2
   },
   "outputs": [],
   "source": [
    "#  to display all the data\n",
    "pd.set_option(\"display.max_column\", 500)\n",
    "pd.set_option(\"display.max_rows\", 500)\n",
    "pd.set_option(\"display.max_seq_items\", 500)\n",
    "pd.set_option(\"display.max_colwidth\", 500)\n",
    "pd.set_option(\"expand_frame_repr\", True)"
   ]
  },
  {
   "cell_type": "code",
   "execution_count": 4,
   "metadata": {},
   "outputs": [],
   "source": [
    "target_columns = [\n",
    "    \"property_type\",\n",
    "    \"accommodates\",\n",
    "    \"first_review\",\n",
    "    \"review_scores_value\",\n",
    "    \"review_scores_cleanliness\",\n",
    "    \"review_scores_location\",\n",
    "    \"review_scores_accuracy\",\n",
    "    \"review_scores_communication\",\n",
    "    \"review_scores_checkin\",\n",
    "    \"review_scores_rating\",\n",
    "    \"maximum_nights\",\n",
    "    \"listing_url\",\n",
    "    \"host_is_superhost\",\n",
    "    \"host_about\",\n",
    "    \"host_response_time\",\n",
    "    \"host_response_rate\",\n",
    "    \"street\",\n",
    "    \"weekly_price\",\n",
    "    \"monthly_price\",\n",
    "    \"market\",\n",
    "]\n",
    "listings = pd.merge(listings, listings_details[target_columns], on=\"id\", how=\"left\")\n",
    "listings = listings.drop(columns=[\"neighbourhood_group\"])\n",
    "listings[\"host_response_rate\"] = pd.to_numeric(\n",
    "    listings[\"host_response_rate\"].str.strip(\"%\")\n",
    ")"
   ]
  },
  {
   "cell_type": "markdown",
   "metadata": {},
   "source": [
    ">> 1. Get top 10 landlords (most owned places, biggest salary when all places occupied)"
   ]
  },
  {
   "cell_type": "markdown",
   "metadata": {},
   "source": [
    " - most owned"
   ]
  },
  {
   "cell_type": "code",
   "execution_count": 5,
   "metadata": {},
   "outputs": [
    {
     "name": "stdout",
     "output_type": "stream",
     "text": [
      "        host_id  count\n",
      "2529   77457889    127\n",
      "81       748818     86\n",
      "1282   29927830     86\n",
      "4399  182755179     81\n",
      "3572  135482892     80\n",
      "147     1621474     75\n",
      "132     1418201     65\n",
      "3141  112527018     58\n",
      "171     2089542     49\n",
      "206     2718115     46\n"
     ]
    }
   ],
   "source": [
    "top10Id = (\n",
    "    listings.groupby([\"host_id\"])[\"host_name\"]\n",
    "    .count()\n",
    "    .reset_index(name=\"count\")\n",
    "    .sort_values(by=\"count\", ascending=False)\n",
    "    .head(10)\n",
    ")\n",
    "print(top10Id)"
   ]
  },
  {
   "cell_type": "code",
   "execution_count": 6,
   "metadata": {},
   "outputs": [
    {
     "name": "stdout",
     "output_type": "stream",
     "text": [
      "Παναγιώτης\n",
      "George\n",
      "Homm ®\n",
      "Bookiko\n",
      "Home\n",
      "Mint Team\n",
      "Dean\n",
      "Toni\n",
      "Tia & Mike\n",
      "Alex & Maria | Preffered |\n"
     ]
    }
   ],
   "source": [
    "for t_id in top10Id[\"host_id\"].to_numpy():\n",
    "    print(listings.loc[listings[\"host_id\"] == t_id].iloc[1, 2])"
   ]
  },
  {
   "cell_type": "code",
   "execution_count": 7,
   "metadata": {},
   "outputs": [],
   "source": [
    "#  - cumulative price\n",
    "top100Id = (\n",
    "    listings.groupby([\"host_id\"])[\"host_name\"]\n",
    "    .count()\n",
    "    .reset_index(name=\"count\")\n",
    "    .sort_values(by=\"count\", ascending=False)\n",
    "    .head(100)\n",
    ")"
   ]
  },
  {
   "cell_type": "code",
   "execution_count": 8,
   "metadata": {},
   "outputs": [],
   "source": [
    "cummulative_sum = (\n",
    "    listings[listings[\"host_id\"].isin(top100Id[\"host_id\"])]\n",
    "    .groupby(\"host_id\")[\"price\"]\n",
    "    .sum()\n",
    "    .sort_values(ascending=False)\n",
    "    .head(10)\n",
    ")"
   ]
  },
  {
   "cell_type": "code",
   "execution_count": 9,
   "metadata": {},
   "outputs": [
    {
     "name": "stdout",
     "output_type": "stream",
     "text": [
      "Bookiko earns 8708\n",
      "Dean earns 8026\n",
      "Jj earns 7867\n",
      "George earns 7390\n",
      "Home earns 6223\n",
      "Anna earns 5950\n",
      "Homm ® earns 5743\n",
      "Mint Team earns 4586\n",
      "Toni earns 4206\n",
      "Παναγιώτης earns 3882\n"
     ]
    }
   ],
   "source": [
    "for c_id, c_sum in zip(cummulative_sum.index.to_numpy(), cummulative_sum.to_numpy()):\n",
    "    print(f'{listings.loc[listings[\"host_id\"] == c_id].iloc[1, 2]} earns {c_sum}')"
   ]
  },
  {
   "cell_type": "markdown",
   "metadata": {},
   "source": [
    ">> 2. How the prices change if we go for a week or month (listings)"
   ]
  },
  {
   "cell_type": "code",
   "execution_count": 10,
   "metadata": {},
   "outputs": [
    {
     "data": {
      "text/plain": [
       "Index(['name', 'host_id', 'host_name', 'neighbourhood', 'latitude',\n",
       "       'longitude', 'room_type', 'price', 'minimum_nights',\n",
       "       'number_of_reviews', 'last_review', 'reviews_per_month',\n",
       "       'calculated_host_listings_count', 'availability_365', 'property_type',\n",
       "       'accommodates', 'first_review', 'review_scores_value',\n",
       "       'review_scores_cleanliness', 'review_scores_location',\n",
       "       'review_scores_accuracy', 'review_scores_communication',\n",
       "       'review_scores_checkin', 'review_scores_rating', 'maximum_nights',\n",
       "       'listing_url', 'host_is_superhost', 'host_about', 'host_response_time',\n",
       "       'host_response_rate', 'street', 'weekly_price', 'monthly_price',\n",
       "       'market'],\n",
       "      dtype='object')"
      ]
     },
     "execution_count": 10,
     "metadata": {},
     "output_type": "execute_result"
    }
   ],
   "source": [
    "listings.columns"
   ]
  },
  {
   "cell_type": "code",
   "execution_count": 11,
   "metadata": {},
   "outputs": [
    {
     "data": {
      "text/plain": [
       "id\n",
       "10595    176\n",
       "10988    118\n",
       "10990     85\n",
       "10993     76\n",
       "10995     85\n",
       "Name: price, dtype: int64"
      ]
     },
     "execution_count": 11,
     "metadata": {},
     "output_type": "execute_result"
    }
   ],
   "source": [
    "listings.price.head()"
   ]
  },
  {
   "cell_type": "code",
   "execution_count": 12,
   "metadata": {},
   "outputs": [
    {
     "data": {
      "text/plain": [
       "id\n",
       "10595    $700.00\n",
       "10988    $560.00\n",
       "10990    $420.00\n",
       "10993    $350.00\n",
       "10995    $420.00\n",
       "Name: weekly_price, dtype: object"
      ]
     },
     "execution_count": 12,
     "metadata": {},
     "output_type": "execute_result"
    }
   ],
   "source": [
    "listings.weekly_price.head()"
   ]
  },
  {
   "cell_type": "code",
   "execution_count": 13,
   "metadata": {},
   "outputs": [
    {
     "data": {
      "text/plain": [
       "id\n",
       "10595    700.0\n",
       "10988    560.0\n",
       "10990    420.0\n",
       "10993    350.0\n",
       "10995    420.0\n",
       "Name: weekly_price, dtype: float64"
      ]
     },
     "execution_count": 13,
     "metadata": {},
     "output_type": "execute_result"
    }
   ],
   "source": [
    "listings[\"weekly_price\"] = pd.to_numeric(\n",
    "    listings[\"weekly_price\"].str.strip(\"$\").str.replace(\",\", \"\")\n",
    ")\n",
    "listings.weekly_price.head()"
   ]
  },
  {
   "cell_type": "code",
   "execution_count": 14,
   "metadata": {},
   "outputs": [
    {
     "data": {
      "text/plain": [
       "id\n",
       "10595    $2,800.00\n",
       "10988    $2,240.00\n",
       "10990    $1,680.00\n",
       "10993    $1,400.00\n",
       "10995    $1,680.00\n",
       "Name: monthly_price, dtype: object"
      ]
     },
     "execution_count": 14,
     "metadata": {},
     "output_type": "execute_result"
    }
   ],
   "source": [
    "listings.monthly_price.head()"
   ]
  },
  {
   "cell_type": "code",
   "execution_count": 15,
   "metadata": {},
   "outputs": [
    {
     "data": {
      "text/plain": [
       "id\n",
       "10595    2800.0\n",
       "10988    2240.0\n",
       "10990    1680.0\n",
       "10993    1400.0\n",
       "10995    1680.0\n",
       "Name: monthly_price, dtype: float64"
      ]
     },
     "execution_count": 15,
     "metadata": {},
     "output_type": "execute_result"
    }
   ],
   "source": [
    "listings[\"monthly_price\"] = pd.to_numeric(\n",
    "    listings[\"monthly_price\"].str.strip(\"$\").str.replace(\",\", \"\")\n",
    ")\n",
    "listings.monthly_price.head()"
   ]
  },
  {
   "cell_type": "markdown",
   "metadata": {},
   "source": [
    "lets convert monthly and weekly prices per day"
   ]
  },
  {
   "cell_type": "code",
   "execution_count": 16,
   "metadata": {},
   "outputs": [
    {
     "data": {
      "text/plain": [
       "43.95418692598595"
      ]
     },
     "execution_count": 16,
     "metadata": {},
     "output_type": "execute_result"
    }
   ],
   "source": [
    "(listings.monthly_price / 30).dropna().mean()"
   ]
  },
  {
   "cell_type": "code",
   "execution_count": 17,
   "metadata": {},
   "outputs": [
    {
     "data": {
      "text/plain": [
       "57.18768768768762"
      ]
     },
     "execution_count": 17,
     "metadata": {},
     "output_type": "execute_result"
    }
   ],
   "source": [
    "(listings.weekly_price / 7).dropna().mean()"
   ]
  },
  {
   "cell_type": "code",
   "execution_count": 18,
   "metadata": {},
   "outputs": [
    {
     "data": {
      "text/plain": [
       "65.32569928487372"
      ]
     },
     "execution_count": 18,
     "metadata": {},
     "output_type": "execute_result"
    }
   ],
   "source": [
    "listings.price.mean()"
   ]
  },
  {
   "cell_type": "markdown",
   "metadata": {
    "lines_to_next_cell": 2
   },
   "source": [
    ">> 3. How the apartment price depends on the evaluation of the location? What about cleanliness or other type of evaluations?"
   ]
  },
  {
   "cell_type": "code",
   "execution_count": 19,
   "metadata": {},
   "outputs": [
    {
     "data": {
      "text/plain": [
       "Text(0, 0.5, 'price')"
      ]
     },
     "execution_count": 19,
     "metadata": {},
     "output_type": "execute_result"
    },
    {
     "data": {
      "image/png": "[encoded data removed]",
      "text/plain": [
       "<Figure size 432x288 with 1 Axes>"
      ]
     },
     "metadata": {
      "needs_background": "light"
     },
     "output_type": "display_data"
    }
   ],
   "source": [
    "listings.columns\n",
    "plt.scatter(listings.review_scores_location, listings.price)\n",
    "plt.xlabel(\"review score of location\")\n",
    "plt.ylabel(\"price\")"
   ]
  },
  {
   "cell_type": "code",
   "execution_count": 20,
   "metadata": {},
   "outputs": [
    {
     "data": {
      "text/plain": [
       "review_scores_location\n",
       "2.0     43.750000\n",
       "3.0     95.000000\n",
       "4.0     61.000000\n",
       "5.0     67.000000\n",
       "6.0     49.071429\n",
       "7.0     45.394737\n",
       "8.0     46.995604\n",
       "9.0     47.661707\n",
       "10.0    62.277737\n",
       "Name: price, dtype: float64"
      ]
     },
     "execution_count": 20,
     "metadata": {},
     "output_type": "execute_result"
    }
   ],
   "source": [
    "listings.groupby(\"review_scores_location\").price.mean()"
   ]
  },
  {
   "cell_type": "code",
   "execution_count": 21,
   "metadata": {},
   "outputs": [
    {
     "data": {
      "text/plain": [
       "<matplotlib.axes._subplots.AxesSubplot at 0x7fea15d48a90>"
      ]
     },
     "execution_count": 21,
     "metadata": {},
     "output_type": "execute_result"
    },
    {
     "data": {
      "image/png": "[encoded data removed]",
      "text/plain": [
       "<Figure size 432x288 with 1 Axes>"
      ]
     },
     "metadata": {
      "needs_background": "light"
     },
     "output_type": "display_data"
    }
   ],
   "source": [
    "listings.boxplot(column=\"price\", by=\"review_scores_location\")"
   ]
  },
  {
   "cell_type": "code",
   "execution_count": 22,
   "metadata": {
    "lines_to_next_cell": 2
   },
   "outputs": [
    {
     "data": {
      "text/plain": [
       "<matplotlib.axes._subplots.AxesSubplot at 0x7fe9ddd84110>"
      ]
     },
     "execution_count": 22,
     "metadata": {},
     "output_type": "execute_result"
    },
    {
     "data": {
      "image/png": "[encoded data removed]",
      "text/plain": [
       "<Figure size 432x288 with 1 Axes>"
      ]
     },
     "metadata": {
      "needs_background": "light"
     },
     "output_type": "display_data"
    }
   ],
   "source": [
    "listings.boxplot(column=\"price\", by=\"review_scores_cleanliness\")"
   ]
  },
  {
   "cell_type": "markdown",
   "metadata": {},
   "source": [
    ">> 4. Find superhosts. What part of all the landlords are superhosts."
   ]
  },
  {
   "cell_type": "code",
   "execution_count": 23,
   "metadata": {},
   "outputs": [
    {
     "data": {
      "text/plain": [
       "Index(['name', 'host_id', 'host_name', 'neighbourhood', 'latitude',\n",
       "       'longitude', 'room_type', 'price', 'minimum_nights',\n",
       "       'number_of_reviews', 'last_review', 'reviews_per_month',\n",
       "       'calculated_host_listings_count', 'availability_365', 'property_type',\n",
       "       'accommodates', 'first_review', 'review_scores_value',\n",
       "       'review_scores_cleanliness', 'review_scores_location',\n",
       "       'review_scores_accuracy', 'review_scores_communication',\n",
       "       'review_scores_checkin', 'review_scores_rating', 'maximum_nights',\n",
       "       'listing_url', 'host_is_superhost', 'host_about', 'host_response_time',\n",
       "       'host_response_rate', 'street', 'weekly_price', 'monthly_price',\n",
       "       'market'],\n",
       "      dtype='object')"
      ]
     },
     "execution_count": 23,
     "metadata": {},
     "output_type": "execute_result"
    }
   ],
   "source": [
    "listings.columns"
   ]
  },
  {
   "cell_type": "code",
   "execution_count": 24,
   "metadata": {},
   "outputs": [
    {
     "data": {
      "text/plain": [
       "0"
      ]
     },
     "execution_count": 24,
     "metadata": {},
     "output_type": "execute_result"
    }
   ],
   "source": [
    "listings.host_is_superhost.isnull().sum()"
   ]
  },
  {
   "cell_type": "code",
   "execution_count": 25,
   "metadata": {},
   "outputs": [
    {
     "data": {
      "text/plain": [
       "11047"
      ]
     },
     "execution_count": 25,
     "metadata": {},
     "output_type": "execute_result"
    }
   ],
   "source": [
    "total = listings.host_is_superhost.shape[0]\n",
    "total"
   ]
  },
  {
   "cell_type": "code",
   "execution_count": 28,
   "metadata": {},
   "outputs": [
    {
     "data": {
      "text/plain": [
       "4098"
      ]
     },
     "execution_count": 28,
     "metadata": {},
     "output_type": "execute_result"
    }
   ],
   "source": [
    "superhosts = listings.host_is_superhost.str.count(r\"t\").sum()\n",
    "superhosts"
   ]
  },
  {
   "cell_type": "code",
   "execution_count": 29,
   "metadata": {},
   "outputs": [
    {
     "name": "stdout",
     "output_type": "stream",
     "text": [
      " Super hosts are 37.1% of all the landlords\n"
     ]
    }
   ],
   "source": [
    "print(f\" Super hosts are {superhosts/total*100:.3}% of all the landlords\")"
   ]
  },
  {
   "cell_type": "markdown",
   "metadata": {},
   "source": [
    ">> 5. Longest comment (reviews_details)"
   ]
  },
  {
   "cell_type": "code",
   "execution_count": 30,
   "metadata": {},
   "outputs": [
    {
     "data": {
      "text/plain": [
       "'The apartment was wonderful, fully equiped, beautiful decor, very comfortable. VERRY CLEAN!  Would stay there again or possibly another of host properties.  Close to Metro, markets, grocery store all conveniences.'"
      ]
     },
     "execution_count": 30,
     "metadata": {},
     "output_type": "execute_result"
    }
   ],
   "source": [
    "reviews_details.comments.iloc[0]"
   ]
  },
  {
   "cell_type": "code",
   "execution_count": 31,
   "metadata": {},
   "outputs": [
    {
     "data": {
      "text/plain": [
       "213"
      ]
     },
     "execution_count": 31,
     "metadata": {},
     "output_type": "execute_result"
    }
   ],
   "source": [
    "len(reviews_details.comments.iloc[0])"
   ]
  },
  {
   "cell_type": "markdown",
   "metadata": {},
   "source": [
    " listing id with longest comment"
   ]
  },
  {
   "cell_type": "code",
   "execution_count": 32,
   "metadata": {},
   "outputs": [
    {
     "data": {
      "text/plain": [
       "listing_id\n",
       "26716805    5553.0\n",
       "15754084    5429.0\n",
       "30580730    5124.0\n",
       "24556899    4998.0\n",
       "33215030    4835.0\n",
       "Name: comments, dtype: float64"
      ]
     },
     "execution_count": 32,
     "metadata": {},
     "output_type": "execute_result"
    }
   ],
   "source": [
    "reviews_details.comments.str.len().sort_values(ascending=False).head()"
   ]
  },
  {
   "cell_type": "code",
   "execution_count": 33,
   "metadata": {},
   "outputs": [
    {
     "data": {
      "text/html": [
       "<div>\n",
       "<style scoped>\n",
       "    .dataframe tbody tr th:only-of-type {\n",
       "        vertical-align: middle;\n",
       "    }\n",
       "\n",
       "    .dataframe tbody tr th {\n",
       "        vertical-align: top;\n",
       "    }\n",
       "\n",
       "    .dataframe thead th {\n",
       "        text-align: right;\n",
       "    }\n",
       "</style>\n",
       "<table border=\"1\" class=\"dataframe\">\n",
       "  <thead>\n",
       "    <tr style=\"text-align: right;\">\n",
       "      <th></th>\n",
       "      <th>id</th>\n",
       "      <th>date</th>\n",
       "      <th>reviewer_id</th>\n",
       "      <th>reviewer_name</th>\n",
       "      <th>comments</th>\n",
       "    </tr>\n",
       "    <tr>\n",
       "      <th>listing_id</th>\n",
       "      <th></th>\n",
       "      <th></th>\n",
       "      <th></th>\n",
       "      <th></th>\n",
       "      <th></th>\n",
       "    </tr>\n",
       "  </thead>\n",
       "  <tbody>\n",
       "    <tr>\n",
       "      <th>26716805</th>\n",
       "      <td>317993829</td>\n",
       "      <td>2018-09-03</td>\n",
       "      <td>9016881</td>\n",
       "      <td>Natan</td>\n",
       "      <td>I stayed at Maria's place for a week and had a lovely time. Spacious apartment with a nice garden/balcony, as well as plenty of sunlight. This apartment is just a short walk to the National Archaeological Museum which is a must-see and walkable to the Acropolis as well. 5/5 would recommend.</td>\n",
       "    </tr>\n",
       "    <tr>\n",
       "      <th>26716805</th>\n",
       "      <td>324858434</td>\n",
       "      <td>2018-09-18</td>\n",
       "      <td>42655565</td>\n",
       "      <td>Markus</td>\n",
       "      <td>Der Empfang und die Kommunikation mit Maria und Dionysia war vorbildlich und supernett. Vor Ort wurde alles nötige erklärt und es gibt eine Infomappe mit Restauranttips und dergleichen. Die Wohnung übertraf meine Erwartungen in jeder Hinsicht und war sowohl von der Ausstattung (so ist die Küchenausstattung beispielsweise umfangreicher als meine eigene und jeder Gast der selber kochen will wird es zu schätzen wissen) als auch der Lage optimal (Exarchia). Der riesige Balkon mit mehreren Sitzge...</td>\n",
       "    </tr>\n",
       "    <tr>\n",
       "      <th>26716805</th>\n",
       "      <td>326306576</td>\n",
       "      <td>2018-09-22</td>\n",
       "      <td>1387826</td>\n",
       "      <td>Nick</td>\n",
       "      <td>Very well appointed apartment in a very good location</td>\n",
       "    </tr>\n",
       "    <tr>\n",
       "      <th>26716805</th>\n",
       "      <td>331269686</td>\n",
       "      <td>2018-10-02</td>\n",
       "      <td>116735952</td>\n",
       "      <td>Christian</td>\n",
       "      <td>We had a pleasant stay in Athens. The apartment was very comfortable and quit big. Thank you very much for your great Tipps. Christian and Marisa</td>\n",
       "    </tr>\n",
       "    <tr>\n",
       "      <th>26716805</th>\n",
       "      <td>340188442</td>\n",
       "      <td>2018-10-23</td>\n",
       "      <td>5395149</td>\n",
       "      <td>Zara</td>\n",
       "      <td>I have stayed in a few different types of AirBnB over the years (most of which I have rated five stars), and I must say that Maria's and Dionysia's flat is so far THE BEST! I have lived here now for about a month and have one week to go, and frakly, I don't want to leave! ...But I have already promised to myself that as soon as I'm able to return to Athens, I will try and book Maria's flat. Although the flat is in high demand, so be sure to book on time! ;-) Everything in M&amp;D's flat is prett...</td>\n",
       "    </tr>\n",
       "    <tr>\n",
       "      <th>26716805</th>\n",
       "      <td>422502125</td>\n",
       "      <td>2019-03-11</td>\n",
       "      <td>22841698</td>\n",
       "      <td>Mehdi</td>\n",
       "      <td>Nice place, nice location, nice host, what else?</td>\n",
       "    </tr>\n",
       "    <tr>\n",
       "      <th>26716805</th>\n",
       "      <td>429829198</td>\n",
       "      <td>2019-03-29</td>\n",
       "      <td>22095560</td>\n",
       "      <td>Ignacio</td>\n",
       "      <td>One of my best stays with airbnb. The appartment is huge, kitchen is awesome, overall a great experience. You can walk to the center of the town in less than 20 minutes and shops/supermarkets are aroud the corner. Thanks again!</td>\n",
       "    </tr>\n",
       "    <tr>\n",
       "      <th>26716805</th>\n",
       "      <td>442385209</td>\n",
       "      <td>2019-04-23</td>\n",
       "      <td>12510495</td>\n",
       "      <td>Axel</td>\n",
       "      <td>We loved our stay at the apartment. Situated in a calm neigborhood. Lovely, large balcony. Thank you!</td>\n",
       "    </tr>\n",
       "    <tr>\n",
       "      <th>26716805</th>\n",
       "      <td>459193084</td>\n",
       "      <td>2019-05-27</td>\n",
       "      <td>25332313</td>\n",
       "      <td>Claudia</td>\n",
       "      <td>We loved Dionysia’s apartment and felt very comfortable and at home. Thank you very much for the bottle of wine and the chocolate easter eggs! The flat is as described in the listing: bright, airy, spacious and comfortable, situated in a good location and equipped with everything we needed for a longer stay. The balcony was great with shade provided and looking out on a quiet neighbourhood street. Communication with Dionysia was very good—she was always very helpful and responded very quickl...</td>\n",
       "    </tr>\n",
       "    <tr>\n",
       "      <th>26716805</th>\n",
       "      <td>483120969</td>\n",
       "      <td>2019-07-07</td>\n",
       "      <td>222732088</td>\n",
       "      <td>Leon</td>\n",
       "      <td>Amazing apartment and amazing hosts! Dionysia and her family welcomed me, and made sure that everything was in order during my stay. The washing machine broke one day, and as soon as I told Dionysia everything was taken care of in the fastest way possible. \\nThe location is brilliant. The balcony is great, and the whole apartment is very good for a long term stay. I stayed a month. \\nThanks so much Dionysia. \\nKind regards</td>\n",
       "    </tr>\n",
       "  </tbody>\n",
       "</table>\n",
       "</div>"
      ],
      "text/plain": [
       "                   id       date  reviewer_id reviewer_name  \\\n",
       "listing_id                                                    \n",
       "26716805    317993829 2018-09-03      9016881         Natan   \n",
       "26716805    324858434 2018-09-18     42655565        Markus   \n",
       "26716805    326306576 2018-09-22      1387826          Nick   \n",
       "26716805    331269686 2018-10-02    116735952     Christian   \n",
       "26716805    340188442 2018-10-23      5395149          Zara   \n",
       "26716805    422502125 2019-03-11     22841698         Mehdi   \n",
       "26716805    429829198 2019-03-29     22095560       Ignacio   \n",
       "26716805    442385209 2019-04-23     12510495          Axel   \n",
       "26716805    459193084 2019-05-27     25332313       Claudia   \n",
       "26716805    483120969 2019-07-07    222732088          Leon   \n",
       "\n",
       "                                                                                                                                                                                                                                                                                                                                                                                                                                                                                                                       comments  \n",
       "listing_id                                                                                                                                                                                                                                                                                                                                                                                                                                                                                                                       \n",
       "26716805                                                                                                                                                                                                                    I stayed at Maria's place for a week and had a lovely time. Spacious apartment with a nice garden/balcony, as well as plenty of sunlight. This apartment is just a short walk to the National Archaeological Museum which is a must-see and walkable to the Acropolis as well. 5/5 would recommend.  \n",
       "26716805    Der Empfang und die Kommunikation mit Maria und Dionysia war vorbildlich und supernett. Vor Ort wurde alles nötige erklärt und es gibt eine Infomappe mit Restauranttips und dergleichen. Die Wohnung übertraf meine Erwartungen in jeder Hinsicht und war sowohl von der Ausstattung (so ist die Küchenausstattung beispielsweise umfangreicher als meine eigene und jeder Gast der selber kochen will wird es zu schätzen wissen) als auch der Lage optimal (Exarchia). Der riesige Balkon mit mehreren Sitzge...  \n",
       "26716805                                                                                                                                                                                                                                                                                                                                                                                                                                                                  Very well appointed apartment in a very good location  \n",
       "26716805                                                                                                                                                                                                                                                                                                                                                                      We had a pleasant stay in Athens. The apartment was very comfortable and quit big. Thank you very much for your great Tipps. Christian and Marisa  \n",
       "26716805    I have stayed in a few different types of AirBnB over the years (most of which I have rated five stars), and I must say that Maria's and Dionysia's flat is so far THE BEST! I have lived here now for about a month and have one week to go, and frakly, I don't want to leave! ...But I have already promised to myself that as soon as I'm able to return to Athens, I will try and book Maria's flat. Although the flat is in high demand, so be sure to book on time! ;-) Everything in M&D's flat is prett...  \n",
       "26716805                                                                                                                                                                                                                                                                                                                                                                                                                                                                       Nice place, nice location, nice host, what else?  \n",
       "26716805                                                                                                                                                                                                                                                                                    One of my best stays with airbnb. The appartment is huge, kitchen is awesome, overall a great experience. You can walk to the center of the town in less than 20 minutes and shops/supermarkets are aroud the corner. Thanks again!  \n",
       "26716805                                                                                                                                                                                                                                                                                                                                                                                                                  We loved our stay at the apartment. Situated in a calm neigborhood. Lovely, large balcony. Thank you!  \n",
       "26716805    We loved Dionysia’s apartment and felt very comfortable and at home. Thank you very much for the bottle of wine and the chocolate easter eggs! The flat is as described in the listing: bright, airy, spacious and comfortable, situated in a good location and equipped with everything we needed for a longer stay. The balcony was great with shade provided and looking out on a quiet neighbourhood street. Communication with Dionysia was very good—she was always very helpful and responded very quickl...  \n",
       "26716805                                                                             Amazing apartment and amazing hosts! Dionysia and her family welcomed me, and made sure that everything was in order during my stay. The washing machine broke one day, and as soon as I told Dionysia everything was taken care of in the fastest way possible. \\nThe location is brilliant. The balcony is great, and the whole apartment is very good for a long term stay. I stayed a month. \\nThanks so much Dionysia. \\nKind regards  "
      ]
     },
     "execution_count": 33,
     "metadata": {},
     "output_type": "execute_result"
    }
   ],
   "source": [
    "reviews_details.loc[26716805]"
   ]
  },
  {
   "cell_type": "code",
   "execution_count": 34,
   "metadata": {},
   "outputs": [
    {
     "name": "stdout",
     "output_type": "stream",
     "text": [
      "291\n",
      "847\n",
      "53\n",
      "145\n",
      "5553\n",
      "48\n",
      "227\n",
      "101\n",
      "634\n",
      "423\n"
     ]
    }
   ],
   "source": [
    "for review in reviews_details.loc[26716805].comments:\n",
    "    print(len(review))"
   ]
  },
  {
   "cell_type": "markdown",
   "metadata": {},
   "source": [
    " longest comment id"
   ]
  },
  {
   "cell_type": "code",
   "execution_count": 35,
   "metadata": {},
   "outputs": [
    {
     "data": {
      "text/plain": [
       "id\n",
       "317993829     291\n",
       "324858434     847\n",
       "326306576      53\n",
       "331269686     145\n",
       "340188442    5553\n",
       "422502125      48\n",
       "429829198     227\n",
       "442385209     101\n",
       "459193084     634\n",
       "483120969     423\n",
       "Name: comments, dtype: int64"
      ]
     },
     "execution_count": 35,
     "metadata": {},
     "output_type": "execute_result"
    }
   ],
   "source": [
    "reviews_details.loc[26716805].set_index(\"id\")[\"comments\"].str.len()"
   ]
  },
  {
   "cell_type": "markdown",
   "metadata": {},
   "source": [
    ">> 6. Most commented apartment"
   ]
  },
  {
   "cell_type": "code",
   "execution_count": 36,
   "metadata": {},
   "outputs": [
    {
     "data": {
      "text/plain": [
       "listing_id\n",
       "1177492    654\n",
       "Name: id, dtype: int64"
      ]
     },
     "execution_count": 36,
     "metadata": {},
     "output_type": "execute_result"
    }
   ],
   "source": [
    "reviews_details.groupby(\"listing_id\")[\"id\"].count().sort_values(ascending=False).head(1)"
   ]
  },
  {
   "cell_type": "code",
   "execution_count": 37,
   "metadata": {
    "lines_to_next_cell": 2
   },
   "outputs": [
    {
     "data": {
      "text/html": [
       "<div>\n",
       "<style scoped>\n",
       "    .dataframe tbody tr th:only-of-type {\n",
       "        vertical-align: middle;\n",
       "    }\n",
       "\n",
       "    .dataframe tbody tr th {\n",
       "        vertical-align: top;\n",
       "    }\n",
       "\n",
       "    .dataframe thead th {\n",
       "        text-align: right;\n",
       "    }\n",
       "</style>\n",
       "<table border=\"1\" class=\"dataframe\">\n",
       "  <thead>\n",
       "    <tr style=\"text-align: right;\">\n",
       "      <th></th>\n",
       "      <th>id</th>\n",
       "      <th>date</th>\n",
       "      <th>reviewer_id</th>\n",
       "      <th>reviewer_name</th>\n",
       "      <th>comments</th>\n",
       "    </tr>\n",
       "    <tr>\n",
       "      <th>listing_id</th>\n",
       "      <th></th>\n",
       "      <th></th>\n",
       "      <th></th>\n",
       "      <th></th>\n",
       "      <th></th>\n",
       "    </tr>\n",
       "  </thead>\n",
       "  <tbody>\n",
       "    <tr>\n",
       "      <th>1177492</th>\n",
       "      <td>4988542</td>\n",
       "      <td>2013-06-05</td>\n",
       "      <td>1958978</td>\n",
       "      <td>Yiannis</td>\n",
       "      <td>Great location for seeing the main tourist sites and it really is within walking distance to the Acropolis so a great place to stay as a base for a few days to see Athens! Tucked away in a little narrow street so we slept well in a nice comfortable bed as it's very quiet although it's so central. Great hosts - Our arrival was delayed but despite the late hour Rio made us feel really at home and Maria had cooked some delicious food which was very welcome.</td>\n",
       "    </tr>\n",
       "    <tr>\n",
       "      <th>1177492</th>\n",
       "      <td>5070586</td>\n",
       "      <td>2013-06-10</td>\n",
       "      <td>632436</td>\n",
       "      <td>Amy</td>\n",
       "      <td>My Stay at Rio's studio was just perfect.  He was extremely kind and helpful.  Communication was clear and easy.  The studio is great.  Really comfortable and clean, with a great shower and quiet sleeping loft perfect for jet lag recovery.  Rio helped me get a sense of the neighborhood and suggested some things to do.  The walk to Plaka and the center is very short, safe and pleasant.  The neighborhood is old and interesting, with beautiful architecture and a nice community feeling. I highly...</td>\n",
       "    </tr>\n",
       "    <tr>\n",
       "      <th>1177492</th>\n",
       "      <td>5109696</td>\n",
       "      <td>2013-06-12</td>\n",
       "      <td>959980</td>\n",
       "      <td>Thora</td>\n",
       "      <td>We stayed two days and didn't feel like leaving!\\r\\n\\r\\nHaving a nice, quiet and spacious place made the visit to Athens, which is decently hectic, plainly enjoyable.\\r\\n\\r\\nIts a lovely studio in a really good location - close to the center but quiet - and rio and maria are nice people who made us feel very welcome indeed!</td>\n",
       "    </tr>\n",
       "    <tr>\n",
       "      <th>1177492</th>\n",
       "      <td>5122189</td>\n",
       "      <td>2013-06-13</td>\n",
       "      <td>6758620</td>\n",
       "      <td>Sylvain</td>\n",
       "      <td>Great experience ! This studio rent by Rio is a perfect option and  will become my 'address' on my next stays in Athens ... Convenient location, it's more a little pretty house than a studio ,well equiped and decorated !!! that's for the 'place', about the 'people' Rio and his family are very,very kind and helpful !!! I thank them very much  for their warm welcome !!!...   ;-)</td>\n",
       "    </tr>\n",
       "    <tr>\n",
       "      <th>1177492</th>\n",
       "      <td>5202108</td>\n",
       "      <td>2013-06-17</td>\n",
       "      <td>6593612</td>\n",
       "      <td>Christoph</td>\n",
       "      <td>We stayed only one night in rio `s studio. The apartment was clean and we were warmly welcomed. the area is quiet and the house is located near many attractions in the city. Rio and Maria are excellent hosts and invited us for a great ice coffee. The public transportation are close and the studio is easy to find. All in all a great place to stay longer.</td>\n",
       "    </tr>\n",
       "    <tr>\n",
       "      <th>1177492</th>\n",
       "      <td>5235396</td>\n",
       "      <td>2013-06-19</td>\n",
       "      <td>5652245</td>\n",
       "      <td>Georgios</td>\n",
       "      <td>I stayed in Rio's apt for 2 nights and it was really awesome! The apt is really cosy, and neat, ideal for solo travellers or a couple.\\r\\nLocated in the center of Athens, but in a beautiful and quiet neighborhood, just 3-5 mins walking from the main metro, bus, trolley and tram lines, which connect you to the whole city. Of course, it's also walking distance from the very centre of the city itself (5-6 mins to Acropolis Museum, or a 15 mins walk to Syntagma Square).\\r\\nRio and Maria were ama...</td>\n",
       "    </tr>\n",
       "    <tr>\n",
       "      <th>1177492</th>\n",
       "      <td>5372222</td>\n",
       "      <td>2013-06-26</td>\n",
       "      <td>1711327</td>\n",
       "      <td>Alesya</td>\n",
       "      <td>Rio and his wife made my stay in Athens very welcomed. Rio politely met me at the bus stop after my arrival and his wife gently took me back at the end of my journey. \\r\\nThe street, where the house is situated, is very quite and green. \\r\\nThe house was clean and bright. It is a lovely cool escape in hot days. I was very pleased to stay in this beautiful home!\\r\\n\\r\\nSome words in Russian: Как только я написала Рио о своем приезде, он вежливо предложил встретить меня на главной площади посл...</td>\n",
       "    </tr>\n",
       "    <tr>\n",
       "      <th>...</th>\n",
       "      <td>...</td>\n",
       "      <td>...</td>\n",
       "      <td>...</td>\n",
       "      <td>...</td>\n",
       "      <td>...</td>\n",
       "    </tr>\n",
       "    <tr>\n",
       "      <th>1177492</th>\n",
       "      <td>473170204</td>\n",
       "      <td>2019-06-21</td>\n",
       "      <td>19950777</td>\n",
       "      <td>Fatima Zahra</td>\n",
       "      <td>Beautiful cozy and clean! Highly recommend it!</td>\n",
       "    </tr>\n",
       "    <tr>\n",
       "      <th>1177492</th>\n",
       "      <td>473715560</td>\n",
       "      <td>2019-06-22</td>\n",
       "      <td>41385215</td>\n",
       "      <td>Sibelle</td>\n",
       "      <td>This is my second time at Rio's and I loved it as much as my first time.  Great location and super clean accommodation. Rio was an excellent host, super responsive and accommodating.</td>\n",
       "    </tr>\n",
       "    <tr>\n",
       "      <th>1177492</th>\n",
       "      <td>476917775</td>\n",
       "      <td>2019-06-27</td>\n",
       "      <td>195932685</td>\n",
       "      <td>Yong Hao</td>\n",
       "      <td>The apartmant is at an extremely good location and Rio and his wife are very friendly and prompt in replying! The place is well furnished and cosy! We love the place a lot and is easy to get around the attraction sites at Acropolis! Highly recommended to reserve this place!</td>\n",
       "    </tr>\n",
       "    <tr>\n",
       "      <th>1177492</th>\n",
       "      <td>477315982</td>\n",
       "      <td>2019-06-28</td>\n",
       "      <td>1305291</td>\n",
       "      <td>Alon</td>\n",
       "      <td>Great little place in Mets, at a budget price.</td>\n",
       "    </tr>\n",
       "    <tr>\n",
       "      <th>1177492</th>\n",
       "      <td>478627638</td>\n",
       "      <td>2019-06-30</td>\n",
       "      <td>330435</td>\n",
       "      <td>Tanya</td>\n",
       "      <td>Location was great. Easy to walk to main tourist attractions. Room was comfortable for 2 people</td>\n",
       "    </tr>\n",
       "    <tr>\n",
       "      <th>1177492</th>\n",
       "      <td>480201420</td>\n",
       "      <td>2019-07-02</td>\n",
       "      <td>29609010</td>\n",
       "      <td>Susanne</td>\n",
       "      <td>Very nice place as described! Great location! We would stay again!</td>\n",
       "    </tr>\n",
       "    <tr>\n",
       "      <th>1177492</th>\n",
       "      <td>481077422</td>\n",
       "      <td>2019-07-04</td>\n",
       "      <td>107065539</td>\n",
       "      <td>Josh</td>\n",
       "      <td>My partner and I really enjoyed our stay at Rio’s place. The apartment was spacious and comfy and in a great location and we felt safe! Check in was a smooth process and great communication with the host.</td>\n",
       "    </tr>\n",
       "  </tbody>\n",
       "</table>\n",
       "<p>654 rows × 5 columns</p>\n",
       "</div>"
      ],
      "text/plain": [
       "                   id       date  reviewer_id reviewer_name  \\\n",
       "listing_id                                                    \n",
       "1177492       4988542 2013-06-05      1958978       Yiannis   \n",
       "1177492       5070586 2013-06-10       632436           Amy   \n",
       "1177492       5109696 2013-06-12       959980         Thora   \n",
       "1177492       5122189 2013-06-13      6758620       Sylvain   \n",
       "1177492       5202108 2013-06-17      6593612     Christoph   \n",
       "1177492       5235396 2013-06-19      5652245      Georgios   \n",
       "1177492       5372222 2013-06-26      1711327        Alesya   \n",
       "...               ...        ...          ...           ...   \n",
       "1177492     473170204 2019-06-21     19950777  Fatima Zahra   \n",
       "1177492     473715560 2019-06-22     41385215       Sibelle   \n",
       "1177492     476917775 2019-06-27    195932685      Yong Hao   \n",
       "1177492     477315982 2019-06-28      1305291          Alon   \n",
       "1177492     478627638 2019-06-30       330435         Tanya   \n",
       "1177492     480201420 2019-07-02     29609010       Susanne   \n",
       "1177492     481077422 2019-07-04    107065539          Josh   \n",
       "\n",
       "                                                                                                                                                                                                                                                                                                                                                                                                                                                                                                                       comments  \n",
       "listing_id                                                                                                                                                                                                                                                                                                                                                                                                                                                                                                                       \n",
       "1177492                                             Great location for seeing the main tourist sites and it really is within walking distance to the Acropolis so a great place to stay as a base for a few days to see Athens! Tucked away in a little narrow street so we slept well in a nice comfortable bed as it's very quiet although it's so central. Great hosts - Our arrival was delayed but despite the late hour Rio made us feel really at home and Maria had cooked some delicious food which was very welcome.   \n",
       "1177492     My Stay at Rio's studio was just perfect.  He was extremely kind and helpful.  Communication was clear and easy.  The studio is great.  Really comfortable and clean, with a great shower and quiet sleeping loft perfect for jet lag recovery.  Rio helped me get a sense of the neighborhood and suggested some things to do.  The walk to Plaka and the center is very short, safe and pleasant.  The neighborhood is old and interesting, with beautiful architecture and a nice community feeling. I highly...  \n",
       "1177492                                                                                                                                                                                   We stayed two days and didn't feel like leaving!\\r\\n\\r\\nHaving a nice, quiet and spacious place made the visit to Athens, which is decently hectic, plainly enjoyable.\\r\\n\\r\\nIts a lovely studio in a really good location - close to the center but quiet - and rio and maria are nice people who made us feel very welcome indeed!  \n",
       "1177492                                                                                                                             Great experience ! This studio rent by Rio is a perfect option and  will become my 'address' on my next stays in Athens ... Convenient location, it's more a little pretty house than a studio ,well equiped and decorated !!! that's for the 'place', about the 'people' Rio and his family are very,very kind and helpful !!! I thank them very much  for their warm welcome !!!...   ;-)  \n",
       "1177492                                                                                                                                                     We stayed only one night in rio `s studio. The apartment was clean and we were warmly welcomed. the area is quiet and the house is located near many attractions in the city. Rio and Maria are excellent hosts and invited us for a great ice coffee. The public transportation are close and the studio is easy to find. All in all a great place to stay longer.  \n",
       "1177492     I stayed in Rio's apt for 2 nights and it was really awesome! The apt is really cosy, and neat, ideal for solo travellers or a couple.\\r\\nLocated in the center of Athens, but in a beautiful and quiet neighborhood, just 3-5 mins walking from the main metro, bus, trolley and tram lines, which connect you to the whole city. Of course, it's also walking distance from the very centre of the city itself (5-6 mins to Acropolis Museum, or a 15 mins walk to Syntagma Square).\\r\\nRio and Maria were ama...  \n",
       "1177492     Rio and his wife made my stay in Athens very welcomed. Rio politely met me at the bus stop after my arrival and his wife gently took me back at the end of my journey. \\r\\nThe street, where the house is situated, is very quite and green. \\r\\nThe house was clean and bright. It is a lovely cool escape in hot days. I was very pleased to stay in this beautiful home!\\r\\n\\r\\nSome words in Russian: Как только я написала Рио о своем приезде, он вежливо предложил встретить меня на главной площади посл...  \n",
       "...                                                                                                                                                                                                                                                                                                                                                                                                                                                                                                                         ...  \n",
       "1177492                                                                                                                                                                                                                                                                                                                                                                                                                                                                          Beautiful cozy and clean! Highly recommend it!  \n",
       "1177492                                                                                                                                                                                                                                                                                                                                  This is my second time at Rio's and I loved it as much as my first time.  Great location and super clean accommodation. Rio was an excellent host, super responsive and accommodating.  \n",
       "1177492                                                                                                                                                                                                                                      The apartmant is at an extremely good location and Rio and his wife are very friendly and prompt in replying! The place is well furnished and cosy! We love the place a lot and is easy to get around the attraction sites at Acropolis! Highly recommended to reserve this place!  \n",
       "1177492                                                                                                                                                                                                                                                                                                                                                                                                                                                                          Great little place in Mets, at a budget price.  \n",
       "1177492                                                                                                                                                                                                                                                                                                                                                                                                                         Location was great. Easy to walk to main tourist attractions. Room was comfortable for 2 people  \n",
       "1177492                                                                                                                                                                                                                                                                                                                                                                                                                                                      Very nice place as described! Great location! We would stay again!  \n",
       "1177492                                                                                                                                                                                                                                                                                                            My partner and I really enjoyed our stay at Rio’s place. The apartment was spacious and comfy and in a great location and we felt safe! Check in was a smooth process and great communication with the host.  \n",
       "\n",
       "[654 rows x 5 columns]"
      ]
     },
     "execution_count": 37,
     "metadata": {},
     "output_type": "execute_result"
    }
   ],
   "source": [
    "reviews_details.loc[1177492]"
   ]
  },
  {
   "cell_type": "markdown",
   "metadata": {},
   "source": [
    ">> 7. From comment dates (reviews) report when there are most tourists in the city (plot comments vs dates)"
   ]
  },
  {
   "cell_type": "code",
   "execution_count": 38,
   "metadata": {},
   "outputs": [],
   "source": [
    "reviews.head()\n",
    "reviews[\"count\"] = 1"
   ]
  },
  {
   "cell_type": "code",
   "execution_count": 48,
   "metadata": {
    "lines_to_next_cell": 2
   },
   "outputs": [
    {
     "data": {
      "image/png": "[encoded data removed]",
      "text/plain": [
       "<Figure size 1440x1440 with 1 Axes>"
      ]
     },
     "metadata": {
      "needs_background": "light"
     },
     "output_type": "display_data"
    }
   ],
   "source": [
    "reviews.groupby(\"date\").sum().plot(figsize=(20,20));\n"
   ]
  },
  {
   "cell_type": "code",
   "execution_count": null,
   "metadata": {},
   "outputs": [],
   "source": []
  }
 ],
 "metadata": {
  "jupytext": {
   "cell_markers": "{{{,}}}",
   "cell_metadata_filter": "-all",
   "formats": "ipynb,py",
   "main_language": "python"
  },
  "kernelspec": {
   "display_name": "Python 3",
   "language": "python",
   "name": "python3"
  },
  "language_info": {
   "codemirror_mode": {
    "name": "ipython",
    "version": 3
   },
   "file_extension": ".py",
   "mimetype": "text/x-python",
   "name": "python",
   "nbconvert_exporter": "python",
   "pygments_lexer": "ipython3",
   "version": "3.7.4"
  }
 },
 "nbformat": 4,
 "nbformat_minor": 4
}
