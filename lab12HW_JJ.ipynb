{
 "cells": [
  {
   "cell_type": "code",
   "execution_count": 3,
   "metadata": {},
   "outputs": [],
   "source": [
    "import numpy as np\n",
    "import pandas as pd\n",
    "import matplotlib.pyplot as plt\n",
    "import seaborn as sns\n",
    "import pandas_datareader.data as web\n",
    "import ipywidgets as widgets\n",
    "import scipy.stats as stats\n",
    "sns.set()\n",
    "plt.style.use([{\n",
    "    \"figure.figsize\": (20, 20),\n",
    "    \"xtick.labelsize\": \"large\",\n",
    "    \"ytick.labelsize\": \"large\",\n",
    "    \"legend.fontsize\": \"x-large\",\n",
    "    \"axes.labelsize\": \"x-large\",\n",
    "    \"axes.titlesize\": \"xx-large\",\n",
    "    \"axes.spines.top\": False,\n",
    "    \"axes.spines.right\": False,\n",
    "}, 'seaborn-poster'])"
   ]
  },
  {
   "cell_type": "code",
   "execution_count": 4,
   "metadata": {},
   "outputs": [],
   "source": [
    "food_price = web.DataReader('prc_dap15',\n",
    "                            start='2000',\n",
    "                            end='2020',\n",
    "                            data_source='eurostat')"
   ]
  },
  {
   "cell_type": "code",
   "execution_count": 5,
   "metadata": {},
   "outputs": [
    {
     "data": {
      "text/html": [
       "<div>\n",
       "<style scoped>\n",
       "    .dataframe tbody tr th:only-of-type {\n",
       "        vertical-align: middle;\n",
       "    }\n",
       "\n",
       "    .dataframe tbody tr th {\n",
       "        vertical-align: top;\n",
       "    }\n",
       "\n",
       "    .dataframe thead tr th {\n",
       "        text-align: left;\n",
       "    }\n",
       "\n",
       "    .dataframe thead tr:last-of-type th {\n",
       "        text-align: right;\n",
       "    }\n",
       "</style>\n",
       "<table border=\"1\" class=\"dataframe\">\n",
       "  <thead>\n",
       "    <tr>\n",
       "      <th>UNIT</th>\n",
       "      <th colspan=\"10\" halign=\"left\">Euro</th>\n",
       "      <th>...</th>\n",
       "      <th colspan=\"10\" halign=\"left\">National currency</th>\n",
       "    </tr>\n",
       "    <tr>\n",
       "      <th>COICOP</th>\n",
       "      <th colspan=\"10\" halign=\"left\">Long-grain rice (1 kg)</th>\n",
       "      <th>...</th>\n",
       "      <th colspan=\"10\" halign=\"left\">Toilet paper (10 rolls)</th>\n",
       "    </tr>\n",
       "    <tr>\n",
       "      <th>GEO</th>\n",
       "      <th>Bulgaria</th>\n",
       "      <th>Cyprus</th>\n",
       "      <th>Czechia</th>\n",
       "      <th>Germany (until 1990 former territory of the FRG)</th>\n",
       "      <th>Spain</th>\n",
       "      <th>Finland</th>\n",
       "      <th>Croatia</th>\n",
       "      <th>Italy</th>\n",
       "      <th>Lithuania</th>\n",
       "      <th>Malta</th>\n",
       "      <th>...</th>\n",
       "      <th>Italy</th>\n",
       "      <th>Lithuania</th>\n",
       "      <th>Malta</th>\n",
       "      <th>Netherlands</th>\n",
       "      <th>Norway</th>\n",
       "      <th>Poland</th>\n",
       "      <th>Romania</th>\n",
       "      <th>Slovenia</th>\n",
       "      <th>Slovakia</th>\n",
       "      <th>Turkey</th>\n",
       "    </tr>\n",
       "    <tr>\n",
       "      <th>FREQ</th>\n",
       "      <th>Annual</th>\n",
       "      <th>Annual</th>\n",
       "      <th>Annual</th>\n",
       "      <th>Annual</th>\n",
       "      <th>Annual</th>\n",
       "      <th>Annual</th>\n",
       "      <th>Annual</th>\n",
       "      <th>Annual</th>\n",
       "      <th>Annual</th>\n",
       "      <th>Annual</th>\n",
       "      <th>...</th>\n",
       "      <th>Annual</th>\n",
       "      <th>Annual</th>\n",
       "      <th>Annual</th>\n",
       "      <th>Annual</th>\n",
       "      <th>Annual</th>\n",
       "      <th>Annual</th>\n",
       "      <th>Annual</th>\n",
       "      <th>Annual</th>\n",
       "      <th>Annual</th>\n",
       "      <th>Annual</th>\n",
       "    </tr>\n",
       "    <tr>\n",
       "      <th>TIME_PERIOD</th>\n",
       "      <th></th>\n",
       "      <th></th>\n",
       "      <th></th>\n",
       "      <th></th>\n",
       "      <th></th>\n",
       "      <th></th>\n",
       "      <th></th>\n",
       "      <th></th>\n",
       "      <th></th>\n",
       "      <th></th>\n",
       "      <th></th>\n",
       "      <th></th>\n",
       "      <th></th>\n",
       "      <th></th>\n",
       "      <th></th>\n",
       "      <th></th>\n",
       "      <th></th>\n",
       "      <th></th>\n",
       "      <th></th>\n",
       "      <th></th>\n",
       "      <th></th>\n",
       "    </tr>\n",
       "  </thead>\n",
       "  <tbody>\n",
       "    <tr>\n",
       "      <td>2015-01-01</td>\n",
       "      <td>NaN</td>\n",
       "      <td>2.26</td>\n",
       "      <td>1.32</td>\n",
       "      <td>NaN</td>\n",
       "      <td>1.29</td>\n",
       "      <td>2.41</td>\n",
       "      <td>3.02</td>\n",
       "      <td>2.59</td>\n",
       "      <td>1.02</td>\n",
       "      <td>2.88</td>\n",
       "      <td>...</td>\n",
       "      <td>4.59</td>\n",
       "      <td>3.46</td>\n",
       "      <td>2.39</td>\n",
       "      <td>2.85</td>\n",
       "      <td>56.1</td>\n",
       "      <td>11.05</td>\n",
       "      <td>14.01</td>\n",
       "      <td>2.95</td>\n",
       "      <td>2.92</td>\n",
       "      <td>10.01</td>\n",
       "    </tr>\n",
       "  </tbody>\n",
       "</table>\n",
       "<p>1 rows × 6460 columns</p>\n",
       "</div>"
      ],
      "text/plain": [
       "UNIT                          Euro                 \\\n",
       "COICOP      Long-grain rice (1 kg)                  \n",
       "GEO                       Bulgaria Cyprus Czechia   \n",
       "FREQ                        Annual Annual  Annual   \n",
       "TIME_PERIOD                                         \n",
       "2015-01-01                     NaN   2.26    1.32   \n",
       "\n",
       "UNIT                                                                         \\\n",
       "COICOP                                                                        \n",
       "GEO         Germany (until 1990 former territory of the FRG)  Spain Finland   \n",
       "FREQ                                                  Annual Annual  Annual   \n",
       "TIME_PERIOD                                                                   \n",
       "2015-01-01                                               NaN   1.29    2.41   \n",
       "\n",
       "UNIT                                         ...       National currency  \\\n",
       "COICOP                                       ... Toilet paper (10 rolls)   \n",
       "GEO         Croatia  Italy Lithuania  Malta  ...                   Italy   \n",
       "FREQ         Annual Annual    Annual Annual  ...                  Annual   \n",
       "TIME_PERIOD                                  ...                           \n",
       "2015-01-01     3.02   2.59      1.02   2.88  ...                    4.59   \n",
       "\n",
       "UNIT                                                                     \\\n",
       "COICOP                                                                    \n",
       "GEO         Lithuania  Malta Netherlands Norway Poland Romania Slovenia   \n",
       "FREQ           Annual Annual      Annual Annual Annual  Annual   Annual   \n",
       "TIME_PERIOD                                                               \n",
       "2015-01-01       3.46   2.39        2.85   56.1  11.05   14.01     2.95   \n",
       "\n",
       "UNIT                         \n",
       "COICOP                       \n",
       "GEO         Slovakia Turkey  \n",
       "FREQ          Annual Annual  \n",
       "TIME_PERIOD                  \n",
       "2015-01-01      2.92  10.01  \n",
       "\n",
       "[1 rows x 6460 columns]"
      ]
     },
     "execution_count": 5,
     "metadata": {},
     "output_type": "execute_result"
    }
   ],
   "source": [
    "food_price.head()"
   ]
  },
  {
   "cell_type": "code",
   "execution_count": 6,
   "metadata": {},
   "outputs": [
    {
     "data": {
      "text/plain": [
       "MultiIndex([(             'Euro',  'Long-grain rice (1 kg)', ...),\n",
       "            (             'Euro',  'Long-grain rice (1 kg)', ...),\n",
       "            (             'Euro',  'Long-grain rice (1 kg)', ...),\n",
       "            (             'Euro',  'Long-grain rice (1 kg)', ...),\n",
       "            (             'Euro',  'Long-grain rice (1 kg)', ...),\n",
       "            (             'Euro',  'Long-grain rice (1 kg)', ...),\n",
       "            (             'Euro',  'Long-grain rice (1 kg)', ...),\n",
       "            (             'Euro',  'Long-grain rice (1 kg)', ...),\n",
       "            (             'Euro',  'Long-grain rice (1 kg)', ...),\n",
       "            (             'Euro',  'Long-grain rice (1 kg)', ...),\n",
       "            ...\n",
       "            ('National currency', 'Toilet paper (10 rolls)', ...),\n",
       "            ('National currency', 'Toilet paper (10 rolls)', ...),\n",
       "            ('National currency', 'Toilet paper (10 rolls)', ...),\n",
       "            ('National currency', 'Toilet paper (10 rolls)', ...),\n",
       "            ('National currency', 'Toilet paper (10 rolls)', ...),\n",
       "            ('National currency', 'Toilet paper (10 rolls)', ...),\n",
       "            ('National currency', 'Toilet paper (10 rolls)', ...),\n",
       "            ('National currency', 'Toilet paper (10 rolls)', ...),\n",
       "            ('National currency', 'Toilet paper (10 rolls)', ...),\n",
       "            ('National currency', 'Toilet paper (10 rolls)', ...)],\n",
       "           names=['UNIT', 'COICOP', 'GEO', 'FREQ'], length=6460)"
      ]
     },
     "execution_count": 6,
     "metadata": {},
     "output_type": "execute_result"
    }
   ],
   "source": [
    "food_price.columns"
   ]
  },
  {
   "cell_type": "code",
   "execution_count": 31,
   "metadata": {},
   "outputs": [
    {
     "data": {
      "text/html": [
       "<div>\n",
       "<style scoped>\n",
       "    .dataframe tbody tr th:only-of-type {\n",
       "        vertical-align: middle;\n",
       "    }\n",
       "\n",
       "    .dataframe tbody tr th {\n",
       "        vertical-align: top;\n",
       "    }\n",
       "\n",
       "    .dataframe thead th {\n",
       "        text-align: right;\n",
       "    }\n",
       "</style>\n",
       "<table border=\"1\" class=\"dataframe\">\n",
       "  <thead>\n",
       "    <tr style=\"text-align: right;\">\n",
       "      <th>COICOP</th>\n",
       "      <th>Acetylsalicylic acid (10 tablets)</th>\n",
       "      <th>Aciclovir (2 g)</th>\n",
       "      <th>All-purposes household cleaner (1 l)</th>\n",
       "      <th>Alprazolam (10 tablets)</th>\n",
       "      <th>Apples (1 kg)</th>\n",
       "      <th>Armchair (1 piece)</th>\n",
       "      <th>Atorvastatin (10 tablets)</th>\n",
       "      <th>Baby food, meat base (500 g)</th>\n",
       "      <th>Battery (1 piece)</th>\n",
       "      <th>Bedlinen (1 set)</th>\n",
       "      <th>...</th>\n",
       "      <th>Video game, PlayStation 3 (1 piece)</th>\n",
       "      <th>Vodka (1 l)</th>\n",
       "      <th>Wardrobe (1 piece)</th>\n",
       "      <th>Washing machine, 6-7 kg, energy efficiency A++/A+++ (1 piece)</th>\n",
       "      <th>Wheat flour (1 kg)</th>\n",
       "      <th>White bread, loaf (1 kg)</th>\n",
       "      <th>White sugar (1 kg)</th>\n",
       "      <th>White wine (0.75 l)</th>\n",
       "      <th>Whole chicken (1 kg)</th>\n",
       "      <th>Winter tyres (4 tyres)</th>\n",
       "    </tr>\n",
       "    <tr>\n",
       "      <th>GEO</th>\n",
       "      <th></th>\n",
       "      <th></th>\n",
       "      <th></th>\n",
       "      <th></th>\n",
       "      <th></th>\n",
       "      <th></th>\n",
       "      <th></th>\n",
       "      <th></th>\n",
       "      <th></th>\n",
       "      <th></th>\n",
       "      <th></th>\n",
       "      <th></th>\n",
       "      <th></th>\n",
       "      <th></th>\n",
       "      <th></th>\n",
       "      <th></th>\n",
       "      <th></th>\n",
       "      <th></th>\n",
       "      <th></th>\n",
       "      <th></th>\n",
       "      <th></th>\n",
       "    </tr>\n",
       "  </thead>\n",
       "  <tbody>\n",
       "    <tr>\n",
       "      <td>Bulgaria</td>\n",
       "      <td>2.175</td>\n",
       "      <td>8.990</td>\n",
       "      <td>2.010</td>\n",
       "      <td>0.56</td>\n",
       "      <td>1.355</td>\n",
       "      <td>NaN</td>\n",
       "      <td>3.710</td>\n",
       "      <td>4.36</td>\n",
       "      <td>0.945</td>\n",
       "      <td>NaN</td>\n",
       "      <td>...</td>\n",
       "      <td>NaN</td>\n",
       "      <td>14.335</td>\n",
       "      <td>NaN</td>\n",
       "      <td>402.70</td>\n",
       "      <td>0.815</td>\n",
       "      <td>1.02</td>\n",
       "      <td>1.06</td>\n",
       "      <td>1.87</td>\n",
       "      <td>3.715</td>\n",
       "      <td>494.105</td>\n",
       "    </tr>\n",
       "    <tr>\n",
       "      <td>Croatia</td>\n",
       "      <td>NaN</td>\n",
       "      <td>NaN</td>\n",
       "      <td>11.700</td>\n",
       "      <td>NaN</td>\n",
       "      <td>4.555</td>\n",
       "      <td>NaN</td>\n",
       "      <td>NaN</td>\n",
       "      <td>17.11</td>\n",
       "      <td>4.225</td>\n",
       "      <td>97.64</td>\n",
       "      <td>...</td>\n",
       "      <td>NaN</td>\n",
       "      <td>40.335</td>\n",
       "      <td>1162.840</td>\n",
       "      <td>1550.67</td>\n",
       "      <td>3.220</td>\n",
       "      <td>6.83</td>\n",
       "      <td>2.99</td>\n",
       "      <td>11.43</td>\n",
       "      <td>13.180</td>\n",
       "      <td>894.225</td>\n",
       "    </tr>\n",
       "    <tr>\n",
       "      <td>Cyprus</td>\n",
       "      <td>1.150</td>\n",
       "      <td>5.210</td>\n",
       "      <td>2.030</td>\n",
       "      <td>1.42</td>\n",
       "      <td>1.670</td>\n",
       "      <td>195.28</td>\n",
       "      <td>9.550</td>\n",
       "      <td>3.78</td>\n",
       "      <td>0.960</td>\n",
       "      <td>24.05</td>\n",
       "      <td>...</td>\n",
       "      <td>57.88</td>\n",
       "      <td>15.990</td>\n",
       "      <td>156.670</td>\n",
       "      <td>410.67</td>\n",
       "      <td>1.190</td>\n",
       "      <td>2.07</td>\n",
       "      <td>0.82</td>\n",
       "      <td>4.90</td>\n",
       "      <td>3.810</td>\n",
       "      <td>NaN</td>\n",
       "    </tr>\n",
       "    <tr>\n",
       "      <td>Czechia</td>\n",
       "      <td>24.195</td>\n",
       "      <td>107.335</td>\n",
       "      <td>31.505</td>\n",
       "      <td>14.18</td>\n",
       "      <td>15.575</td>\n",
       "      <td>NaN</td>\n",
       "      <td>10.325</td>\n",
       "      <td>45.12</td>\n",
       "      <td>NaN</td>\n",
       "      <td>357.93</td>\n",
       "      <td>...</td>\n",
       "      <td>NaN</td>\n",
       "      <td>144.650</td>\n",
       "      <td>2238.115</td>\n",
       "      <td>5136.44</td>\n",
       "      <td>6.550</td>\n",
       "      <td>11.64</td>\n",
       "      <td>9.22</td>\n",
       "      <td>48.00</td>\n",
       "      <td>35.940</td>\n",
       "      <td>NaN</td>\n",
       "    </tr>\n",
       "    <tr>\n",
       "      <td>Finland</td>\n",
       "      <td>NaN</td>\n",
       "      <td>NaN</td>\n",
       "      <td>2.700</td>\n",
       "      <td>NaN</td>\n",
       "      <td>2.090</td>\n",
       "      <td>NaN</td>\n",
       "      <td>NaN</td>\n",
       "      <td>NaN</td>\n",
       "      <td>NaN</td>\n",
       "      <td>NaN</td>\n",
       "      <td>...</td>\n",
       "      <td>NaN</td>\n",
       "      <td>NaN</td>\n",
       "      <td>NaN</td>\n",
       "      <td>NaN</td>\n",
       "      <td>0.670</td>\n",
       "      <td>3.84</td>\n",
       "      <td>0.93</td>\n",
       "      <td>NaN</td>\n",
       "      <td>NaN</td>\n",
       "      <td>NaN</td>\n",
       "    </tr>\n",
       "  </tbody>\n",
       "</table>\n",
       "<p>5 rows × 190 columns</p>\n",
       "</div>"
      ],
      "text/plain": [
       "COICOP    Acetylsalicylic acid (10 tablets)  Aciclovir (2 g)  \\\n",
       "GEO                                                            \n",
       "Bulgaria                              2.175            8.990   \n",
       "Croatia                                 NaN              NaN   \n",
       "Cyprus                                1.150            5.210   \n",
       "Czechia                              24.195          107.335   \n",
       "Finland                                 NaN              NaN   \n",
       "\n",
       "COICOP    All-purposes household cleaner (1 l)  Alprazolam (10 tablets)  \\\n",
       "GEO                                                                       \n",
       "Bulgaria                                 2.010                     0.56   \n",
       "Croatia                                 11.700                      NaN   \n",
       "Cyprus                                   2.030                     1.42   \n",
       "Czechia                                 31.505                    14.18   \n",
       "Finland                                  2.700                      NaN   \n",
       "\n",
       "COICOP    Apples (1 kg)  Armchair (1 piece)  Atorvastatin (10 tablets)  \\\n",
       "GEO                                                                      \n",
       "Bulgaria          1.355                 NaN                      3.710   \n",
       "Croatia           4.555                 NaN                        NaN   \n",
       "Cyprus            1.670              195.28                      9.550   \n",
       "Czechia          15.575                 NaN                     10.325   \n",
       "Finland           2.090                 NaN                        NaN   \n",
       "\n",
       "COICOP    Baby food, meat base (500 g)  Battery (1 piece)  Bedlinen (1 set)  \\\n",
       "GEO                                                                           \n",
       "Bulgaria                          4.36              0.945               NaN   \n",
       "Croatia                          17.11              4.225             97.64   \n",
       "Cyprus                            3.78              0.960             24.05   \n",
       "Czechia                          45.12                NaN            357.93   \n",
       "Finland                            NaN                NaN               NaN   \n",
       "\n",
       "COICOP    ...  Video game, PlayStation 3 (1 piece)  Vodka (1 l)  \\\n",
       "GEO       ...                                                     \n",
       "Bulgaria  ...                                  NaN       14.335   \n",
       "Croatia   ...                                  NaN       40.335   \n",
       "Cyprus    ...                                57.88       15.990   \n",
       "Czechia   ...                                  NaN      144.650   \n",
       "Finland   ...                                  NaN          NaN   \n",
       "\n",
       "COICOP    Wardrobe (1 piece)  \\\n",
       "GEO                            \n",
       "Bulgaria                 NaN   \n",
       "Croatia             1162.840   \n",
       "Cyprus               156.670   \n",
       "Czechia             2238.115   \n",
       "Finland                  NaN   \n",
       "\n",
       "COICOP    Washing machine, 6-7 kg, energy efficiency A++/A+++ (1 piece)  \\\n",
       "GEO                                                                       \n",
       "Bulgaria                                             402.70               \n",
       "Croatia                                             1550.67               \n",
       "Cyprus                                               410.67               \n",
       "Czechia                                             5136.44               \n",
       "Finland                                                 NaN               \n",
       "\n",
       "COICOP    Wheat flour (1 kg)  White bread, loaf (1 kg)  White sugar (1 kg)  \\\n",
       "GEO                                                                          \n",
       "Bulgaria               0.815                      1.02                1.06   \n",
       "Croatia                3.220                      6.83                2.99   \n",
       "Cyprus                 1.190                      2.07                0.82   \n",
       "Czechia                6.550                     11.64                9.22   \n",
       "Finland                0.670                      3.84                0.93   \n",
       "\n",
       "COICOP    White wine (0.75 l)  Whole chicken (1 kg)  Winter tyres (4 tyres)  \n",
       "GEO                                                                          \n",
       "Bulgaria                 1.87                 3.715                 494.105  \n",
       "Croatia                 11.43                13.180                 894.225  \n",
       "Cyprus                   4.90                 3.810                     NaN  \n",
       "Czechia                 48.00                35.940                     NaN  \n",
       "Finland                   NaN                   NaN                     NaN  \n",
       "\n",
       "[5 rows x 190 columns]"
      ]
     },
     "execution_count": 31,
     "metadata": {},
     "output_type": "execute_result"
    }
   ],
   "source": [
    "fprice = food_price.droplevel([0, 3], axis=1).melt().pivot_table(columns='COICOP',index='GEO', values='value')\n",
    "fprice.head()"
   ]
  },
  {
   "cell_type": "code",
   "execution_count": 8,
   "metadata": {},
   "outputs": [
    {
     "name": "stdout",
     "output_type": "stream",
     "text": [
      "Acetylsalicylic acid (10 tablets)\n",
      "Aciclovir (2 g)\n",
      "All-purposes household cleaner (1 l)\n",
      "Alprazolam (10 tablets)\n",
      "Apples (1 kg)\n",
      "Armchair (1 piece)\n",
      "Atorvastatin (10 tablets)\n",
      "Baby food, meat base (500 g)\n",
      "Battery (1 piece)\n",
      "Bedlinen (1 set)\n",
      "Beef, minced (1 kg)\n",
      "Beer (1 l)\n",
      "Beer (lager), domestic, 0.5 l (1 glass)\n",
      "Black pepper (100 g)\n",
      "Black tea (25 bags)\n",
      "Blank DVDs (R), slim cases (10 pieces)\n",
      "Blank compact disc (CD-R) (10 pieces)\n",
      "Blanket (1 piece)\n",
      "Blu-ray disc player (1 piece)\n",
      "Board game, Monopoly (1 piece)\n",
      "Brassiere, push-up (1 piece)\n",
      "Butter, unsalted (250 g)\n",
      "Canned fruit (1 kg/net)\n",
      "Car battery (1 piece)\n",
      "Car hire (7 days)\n",
      "Car wash (1 service)\n",
      "Carbonated drink, orange flavoured (1 l)\n",
      "Cartridges for safety razor, men (5 cartridges)\n",
      "Cement (25 kg)\n",
      "Cetirizine (10 tablets)\n",
      "Change of oil (1 service)\n",
      "Cheese, Camembert type (1 kg)\n",
      "Cheese, Gouda type (1 kg)\n",
      "Chewing gum (1 package)\n",
      "Chicken breast, fillets (1 kg)\n",
      "Chicken eggs (10 eggs)\n",
      "Children' T-shirt, long sleeves (1 piece)\n",
      "Children' s jeans trousers (1 piece)\n",
      "Children' socks (1 pair)\n",
      "Children's sport shoes (1 pair)\n",
      "Chocolate, milk (1 kg)\n",
      "Cigarettes (20 cigarettes)\n",
      "Cinema ticket (1 ticket)\n",
      "Cleaner for WC (1 l)\n",
      "Cleaning liquid for windows (1 l)\n",
      "Cocoa instant drink, powder (1 kg)\n",
      "Coffee (1 kg)\n",
      "Compact digital camera, 12 Mpx (1 piece)\n",
      "Condoms (3 pieces)\n",
      "Cooking pot, stainless steel (1 set)\n",
      "Cornflakes (1 kg)\n",
      "Cotton buds (100 pieces)\n",
      "Cream cheese (200 g)\n",
      "Cup and saucer (1 set)\n",
      "Cup of coffee (1 cup)\n",
      "Curtain material (1 m2)\n",
      "Daily newspaper (1 piece)\n",
      "Dentist, plastic filling (1 service)\n",
      "Deodorant (50 ml)\n",
      "Detergent for washing machine, powder, 70-90 g/wash (1 kg)\n",
      "Detergent for washing machine, powder, > 90 g/wash (1 kg)\n",
      "Diclofenac (100 g)\n",
      "Digital photo print service (30 photos)\n",
      "Digital stick thermometer (1 piece)\n",
      "Dish washer tablets (10 tablets)\n",
      "Disposable nappies (50 pieces)\n",
      "Dog food dry (1 kg)\n",
      "Dog food, meat (1 kg)\n",
      "Double bed frame, pressboard (1 piece)\n",
      "Dry cleaning (1 service)\n",
      "Duvet (1 piece)\n",
      "Electric razor (1 piece)\n",
      "Electric toothbrush (1 set)\n",
      "Enalapril-Hydrochlorothiazide/HCTZ (10 tablets)\n",
      "Esomeprazole (10 tablets)\n",
      "Eye specialist, Ophthalmologist (1 service)\n",
      "Fish fingers (500 g)\n",
      "Flat plate (1 piece)\n",
      "Fresh bananas (1 kg)\n",
      "Fresh carrots (1 kg)\n",
      "Fresh tomatoes, round (1 kg)\n",
      "Fridge-freezer, energy efficiency A+ (1 piece)\n",
      "Frozen French fries (1 kg)\n",
      "Fruit yoghurt (1 kg/l)\n",
      "General practioner (1 service)\n",
      "Girls' skirt (1 piece)\n",
      "Girls' tights (1 piece)\n",
      "Glass for water (1 piece)\n",
      "Hotel weekend (1 service)\n",
      "Ice cream (1 l)\n",
      "Jam (1 kg)\n",
      "Joint bandage (1 m)\n",
      "Kettle, 1.7l (1 piece)\n",
      "Kitchen table (1 piece)\n",
      "Ladies - haircut (1 service)\n",
      "Ladies' T-shirt (1 piece)\n",
      "Ladies' blazer, woolmix (1 piece)\n",
      "Ladies' blouse (1 piece)\n",
      "Ladies' conventional court shoes (1 pair)\n",
      "Ladies' jeans (1 piece)\n",
      "Ladies' long boots (1 pair)\n",
      "Ladies' pullover (1 piece)\n",
      "Ladies' skirt (1 piece)\n",
      "Ladies' straight trousers, synthetic (1 piece)\n",
      "Ladies' top coat (1 piece)\n",
      "Laptop, Hard Disc 750 GB - 1 TB, RAM 8 GB (1 piece)\n",
      "Latanoprost (10 ml)\n",
      "Light bulb energy saving type (1 piece)\n",
      "Long-grain rice (1 kg)\n",
      "Magazine, weekly, gossip (1 copy)\n",
      "Manual toothbrush (1 piece)\n",
      "Margarine (250 g)\n",
      "Men's T-shirt, short sleeves (1 piece)\n",
      "Men's blue jeans (1 piece)\n",
      "Men's boxer briefs (1 piece)\n",
      "Men's lace-up shoes (1 pair)\n",
      "Men's scissors cuts, wet (1 service)\n",
      "Men's shirt (1 piece)\n",
      "Men's street shoes (1 pair)\n",
      "Men's suit, wool (1 suit)\n",
      "Men's trousers (1 piece)\n",
      "Microwave oven (1 piece)\n",
      "Milk, fresh, unskimmed (1 l)\n",
      "Mineral salt (1 kg)\n",
      "Mineral water, carbonated (1 l)\n",
      "Mineral water, still (1 l)\n",
      "Monitor, Full HD (1 piece)\n",
      "Montelukast (10 tablets)\n",
      "Movie DVD (1 piece)\n",
      "Music CD - Pop Chart (1 piece)\n",
      "Natural yoghurt (1 kg/l)\n",
      "Novel, Top 5 (1 book)\n",
      "Olive oil (1 l)\n",
      "Orange juice (1 l)\n",
      "Paint, indoor use (10 l)\n",
      "Paper, DIN A4 (500 sheets)\n",
      "Paracetamol (10 tablets)\n",
      "Pasta, without eggs (1 kg)\n",
      "Pencil (1 piece)\n",
      "Pizza, frozen (500 g)\n",
      "Plaster strips (10 strips)\n",
      "Pocket spring mattress (1 piece)\n",
      "Pork, cutlet (\"escalope\") (1 kg)\n",
      "Pork, loin chop (B2) (1 kg)\n",
      "Potato crisps, single pack (200 g)\n",
      "Potatoes (1 kg)\n",
      "Potting soil (10 l)\n",
      "Pregnancy test (1 piece)\n",
      "Rail travel, single ticket (1 ticket)\n",
      "Red house wine, 0.10 l (1 glass)\n",
      "Red wine (0.75 l)\n",
      "Refrigerator, undercounter, with freezer, energy efficiency A+/A++ (1 piece)\n",
      "Replacement of brake pads (1 hour)\n",
      "Risedronate (10 tablets)\n",
      "Salmon, steak (1 kg)\n",
      "Sausage, Frankfurter/Wiener (1 kg)\n",
      "Sausage, salami type (1 kg)\n",
      "Scourer sponge (1 piece)\n",
      "Services, Cobbler (1 service)\n",
      "Shampoo (400 ml)\n",
      "Shower gel (300 ml)\n",
      "Silicone (300 ml)\n",
      "Sofa set (1 set)\n",
      "Summer tyres (4 tyres)\n",
      "Table lamp (1 piece)\n",
      "Tampons (10 pieces)\n",
      "Taxi (1 trip)\n",
      "Television, screen size 42'' (1 piece)\n",
      "Thorax X-ray (1 service)\n",
      "Tights (1 piece)\n",
      "Tinned pink tuna (1 kg/net)\n",
      "Tinned sweet corn (500 g/net)\n",
      "Toilet paper (10 rolls)\n",
      "Toilet soap, liquid (200 ml)\n",
      "Tomato ketchup (1 kg)\n",
      "Tooth paste (100 ml)\n",
      "Towel (1 piece)\n",
      "Urban bus transport, single ticket (1 ticket)\n",
      "Vacuum cleaner, 1400 W (1 piece)\n",
      "Vegetable oil (1 l)\n",
      "Video game, PlayStation 3 (1 piece)\n",
      "Vodka (1 l)\n",
      "Wardrobe (1 piece)\n",
      "Washing machine, 6-7 kg, energy efficiency A++/A+++ (1 piece)\n",
      "Wheat flour (1 kg)\n",
      "White bread, loaf (1 kg)\n",
      "White sugar (1 kg)\n",
      "White wine (0.75 l)\n",
      "Whole chicken (1 kg)\n",
      "Winter tyres (4 tyres)\n"
     ]
    }
   ],
   "source": [
    "for col in fprice.columns: \n",
    "    print(col) "
   ]
  },
  {
   "cell_type": "code",
   "execution_count": 9,
   "metadata": {},
   "outputs": [
    {
     "data": {
      "image/png": "[encoded data removed]",
      "text/plain": [
       "<Figure size 432x288 with 1 Axes>"
      ]
     },
     "metadata": {
      "needs_background": "light"
     },
     "output_type": "display_data"
    }
   ],
   "source": [
    "fprice['Coffee (1 kg)'].hist();"
   ]
  },
  {
   "cell_type": "code",
   "execution_count": 10,
   "metadata": {},
   "outputs": [
    {
     "data": {
      "text/plain": [
       "COICOP\n",
       "Acetylsalicylic acid (10 tablets)         6.256000\n",
       "Aciclovir (2 g)                          19.896111\n",
       "All-purposes household cleaner (1 l)      6.121154\n",
       "Alprazolam (10 tablets)                   3.364444\n",
       "Apples (1 kg)                             3.337353\n",
       "                                           ...    \n",
       "White bread, loaf (1 kg)                  3.755667\n",
       "White sugar (1 kg)                        2.266471\n",
       "White wine (0.75 l)                      14.031923\n",
       "Whole chicken (1 kg)                      7.836250\n",
       "Winter tyres (4 tyres)                  507.681875\n",
       "Length: 190, dtype: float64"
      ]
     },
     "execution_count": 10,
     "metadata": {},
     "output_type": "execute_result"
    }
   ],
   "source": [
    "fprice.mean()"
   ]
  },
  {
   "cell_type": "code",
   "execution_count": 11,
   "metadata": {},
   "outputs": [
    {
     "data": {
      "text/plain": [
       "32.672"
      ]
     },
     "execution_count": 11,
     "metadata": {},
     "output_type": "execute_result"
    }
   ],
   "source": [
    "fprice['Coffee (1 kg)'].mean()"
   ]
  },
  {
   "cell_type": "code",
   "execution_count": 12,
   "metadata": {},
   "outputs": [
    {
     "data": {
      "text/plain": [
       "12.03"
      ]
     },
     "execution_count": 12,
     "metadata": {},
     "output_type": "execute_result"
    }
   ],
   "source": [
    "fprice['Coffee (1 kg)'].median()"
   ]
  },
  {
   "cell_type": "code",
   "execution_count": 13,
   "metadata": {},
   "outputs": [
    {
     "data": {
      "image/png": "[encoded data removed]",
      "text/plain": [
       "<Figure size 360x360 with 1 Axes>"
      ]
     },
     "metadata": {
      "needs_background": "light"
     },
     "output_type": "display_data"
    }
   ],
   "source": [
    "fprice['Coffee (1 kg)'].plot(kind=\"density\",\n",
    "               figsize=(5, 5))\n",
    "plt.vlines(fprice['Coffee (1 kg)'].mean(),\n",
    "           ymin=0,\n",
    "           ymax=0.0125,\n",
    "           linewidth=5.0, label='mean')\n",
    "plt.vlines(fprice['Coffee (1 kg)'].median(),\n",
    "           ymin=0,\n",
    "           ymax=0.0125,\n",
    "           linewidth=2.0,\n",
    "           color=\"red\", label='median')\n",
    "plt.legend();"
   ]
  },
  {
   "cell_type": "code",
   "execution_count": 14,
   "metadata": {},
   "outputs": [
    {
     "data": {
      "image/png": "[encoded data removed]",
      "text/plain": [
       "<Figure size 432x288 with 1 Axes>"
      ]
     },
     "metadata": {
      "needs_background": "light"
     },
     "output_type": "display_data"
    }
   ],
   "source": [
    "sns.distplot(fprice[\"Orange juice (1 l)\"].dropna(), norm_hist=False, kde=True, label='Orange juice (1 l)');\n",
    "plt.vlines(fprice['Orange juice (1 l)'].mean(),\n",
    "           ymin=0,\n",
    "           ymax=0.3,\n",
    "           linewidth=5.0, label='mean')\n",
    "plt.vlines(fprice['Orange juice (1 l)'].median(),\n",
    "           ymin=0,\n",
    "           ymax=0.3,\n",
    "           linewidth=2.0,\n",
    "           color=\"red\", label='median')\n",
    "plt.legend();"
   ]
  },
  {
   "cell_type": "code",
   "execution_count": 15,
   "metadata": {},
   "outputs": [
    {
     "name": "stdout",
     "output_type": "stream",
     "text": [
      "On average 1 l of orange juice costs 4 euros +- 5 euros in Europe but is costs 1 euros in Lithuania.\n"
     ]
    }
   ],
   "source": [
    "print(f'On average 1 l of orange juice costs {fprice[\"Orange juice (1 l)\"].mean():.0f} euros +- {fprice[\"Orange juice (1 l)\"].std():.0f} euros in Europe but is costs {fprice.loc[\"Lithuania\", \"Orange juice (1 l)\"]:.0f} euros in Lithuania.')"
   ]
  },
  {
   "cell_type": "code",
   "execution_count": 16,
   "metadata": {},
   "outputs": [
    {
     "data": {
      "text/plain": [
       "count     15.000000\n",
       "mean      32.672000\n",
       "std       41.278561\n",
       "min        7.140000\n",
       "25%        9.955000\n",
       "50%       12.030000\n",
       "75%       37.432500\n",
       "max      161.645000\n",
       "Name: Coffee (1 kg), dtype: float64"
      ]
     },
     "execution_count": 16,
     "metadata": {},
     "output_type": "execute_result"
    }
   ],
   "source": [
    "fprice['Coffee (1 kg)'].describe()"
   ]
  },
  {
   "cell_type": "code",
   "execution_count": 17,
   "metadata": {},
   "outputs": [
    {
     "data": {
      "text/plain": [
       "count    15.000000\n",
       "mean      3.811667\n",
       "std       5.023860\n",
       "min       0.840000\n",
       "25%       1.290000\n",
       "50%       1.520000\n",
       "75%       3.237500\n",
       "max      17.865000\n",
       "Name: Orange juice (1 l), dtype: float64"
      ]
     },
     "execution_count": 17,
     "metadata": {},
     "output_type": "execute_result"
    }
   ],
   "source": [
    "fprice[\"Orange juice (1 l)\"].describe()"
   ]
  },
  {
   "cell_type": "code",
   "execution_count": 18,
   "metadata": {},
   "outputs": [
    {
     "data": {
      "text/plain": [
       "<matplotlib.axes._subplots.AxesSubplot at 0x7871a066c8>"
      ]
     },
     "execution_count": 18,
     "metadata": {},
     "output_type": "execute_result"
    },
    {
     "data": {
      "image/png": "[encoded data removed]",
      "text/plain": [
       "<Figure size 432x288 with 1 Axes>"
      ]
     },
     "metadata": {
      "needs_background": "light"
     },
     "output_type": "display_data"
    }
   ],
   "source": [
    "fprice[\"Orange juice (1 l)\"].to_frame().boxplot(return_type='axes')"
   ]
  },
  {
   "cell_type": "code",
   "execution_count": 19,
   "metadata": {},
   "outputs": [
    {
     "data": {
      "text/plain": [
       "2.266783808200043"
      ]
     },
     "execution_count": 19,
     "metadata": {},
     "output_type": "execute_result"
    }
   ],
   "source": [
    "fprice[\"Orange juice (1 l)\"].skew()"
   ]
  },
  {
   "cell_type": "code",
   "execution_count": 59,
   "metadata": {},
   "outputs": [
    {
     "data": {
      "text/plain": [
       "COICOP\n",
       "Sofa set (1 set)                                                 827.28\n",
       "Laptop, Hard Disc 750 GB - 1 TB, RAM 8 GB (1 piece)              725.71\n",
       "Television, screen size 42'' (1 piece)                           513.60\n",
       "Fridge-freezer, energy efficiency A+ (1 piece)                   327.00\n",
       "Washing machine, 6-7 kg, energy efficiency A++/A+++ (1 piece)    306.59\n",
       "Name: Lithuania, dtype: float64"
      ]
     },
     "execution_count": 59,
     "metadata": {},
     "output_type": "execute_result"
    }
   ],
   "source": [
    "sortedprice = fprice.sort_values(by='Lithuania', axis=1, ascending=False)\n",
    "sortedprice.loc[\"Lithuania\"].head()"
   ]
  },
  {
   "cell_type": "code",
   "execution_count": 94,
   "metadata": {},
   "outputs": [
    {
     "data": {
      "image/png": "[encoded data removed]",
      "text/plain": [
       "<Figure size 432x288 with 1 Axes>"
      ]
     },
     "metadata": {
      "needs_background": "light"
     },
     "output_type": "display_data"
    }
   ],
   "source": [
    "fprice.loc[\"Lithuania\"].hist(lw=0.5, fc=(0, 0, 1, 0.5), label=\"Lithuania\")\n",
    "fprice.loc[\"Norway\"].hist(lw=0.5, fc=(1, 0, 0, 0.5), label=\"Norway\")\n",
    "fprice.loc[\"Poland\"].hist(lw=0.5, fc=(0, 1, 0, 0.5), label=\"Poland\")\n",
    "plt.title(\"Price comparison\", fontsize=15)\n",
    "plt.xlabel(\"Price\", fontsize=15)\n",
    "plt.ylabel(\"Count of items\",fontsize=15)\n",
    "plt.legend();"
   ]
  }
 ],
 "metadata": {
  "kernelspec": {
   "display_name": "Python 3",
   "language": "python",
   "name": "python3"
  },
  "language_info": {
   "codemirror_mode": {
    "name": "ipython",
    "version": 3
   },
   "file_extension": ".py",
   "mimetype": "text/x-python",
   "name": "python",
   "nbconvert_exporter": "python",
   "pygments_lexer": "ipython3",
   "version": "3.7.4"
  }
 },
 "nbformat": 4,
 "nbformat_minor": 4
}
