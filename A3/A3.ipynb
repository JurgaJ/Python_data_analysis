{
 "cells": [
  {
   "cell_type": "markdown",
   "metadata": {},
   "source": [
    "Importing packages"
   ]
  },
  {
   "cell_type": "code",
   "execution_count": null,
   "metadata": {},
   "outputs": [],
   "source": [
    "import pathlib\n",
    "import os\n",
    "import re\n",
    "import math\n",
    "import random\n",
    "import matplotlib.pyplot as plt\n",
    "import pandas as pd\n",
    "import numpy as np\n",
    "import scipy.signal as signal\n",
    "idx = pd.IndexSlice"
   ]
  },
  {
   "cell_type": "markdown",
   "metadata": {
    "lines_to_next_cell": 2
   },
   "source": [
    "---\n",
    ">> **TASK 1**\n",
    ">>\n",
    ">> Clean the data in A3/unclean.csv with python (4 points)\n",
    ">>\n",
    ">> - Import csv file\n",
    ">> - Create DataFrame with labels\n",
    ">> - Clean and prepare data for analysis and visualization\n",
    ">> - Plot signals from columns (fix errors)\n",
    ">>\n",
    "---"
   ]
  },
  {
   "cell_type": "code",
   "execution_count": 7,
   "metadata": {},
   "outputs": [
    {
     "data": {
      "text/html": [
       "<div>\n",
       "<style scoped>\n",
       "    .dataframe tbody tr th:only-of-type {\n",
       "        vertical-align: middle;\n",
       "    }\n",
       "\n",
       "    .dataframe tbody tr th {\n",
       "        vertical-align: top;\n",
       "    }\n",
       "\n",
       "    .dataframe thead th {\n",
       "        text-align: right;\n",
       "    }\n",
       "</style>\n",
       "<table border=\"1\" class=\"dataframe\">\n",
       "  <thead>\n",
       "    <tr style=\"text-align: right;\">\n",
       "      <th></th>\n",
       "      <th>I</th>\n",
       "      <th>A</th>\n",
       "      <th>B</th>\n",
       "      <th>C</th>\n",
       "    </tr>\n",
       "  </thead>\n",
       "  <tbody>\n",
       "    <tr>\n",
       "      <th>0</th>\n",
       "      <td>0</td>\n",
       "      <td>0,0V</td>\n",
       "      <td>1,0cm</td>\n",
       "      <td>0,0ms</td>\n",
       "    </tr>\n",
       "    <tr>\n",
       "      <th>1</th>\n",
       "      <td>1</td>\n",
       "      <td>0,012566287931117902V</td>\n",
       "      <td>1,0cm</td>\n",
       "      <td>0,001ms</td>\n",
       "    </tr>\n",
       "    <tr>\n",
       "      <th>2</th>\n",
       "      <td>2</td>\n",
       "      <td>0,025132079766705215V</td>\n",
       "      <td>1,0cm</td>\n",
       "      <td>0,002ms</td>\n",
       "    </tr>\n",
       "    <tr>\n",
       "      <th>3</th>\n",
       "      <td>3</td>\n",
       "      <td>0,03769687943081635V</td>\n",
       "      <td>1,0cm</td>\n",
       "      <td>0,003ms</td>\n",
       "    </tr>\n",
       "    <tr>\n",
       "      <th>4</th>\n",
       "      <td>4</td>\n",
       "      <td>0,05026019088667496V</td>\n",
       "      <td>1,0cm</td>\n",
       "      <td>0,004ms</td>\n",
       "    </tr>\n",
       "  </tbody>\n",
       "</table>\n",
       "</div>"
      ],
      "text/plain": [
       "   I                      A      B        C\n",
       "0  0                   0,0V  1,0cm    0,0ms\n",
       "1  1  0,012566287931117902V  1,0cm  0,001ms\n",
       "2  2  0,025132079766705215V  1,0cm  0,002ms\n",
       "3  3   0,03769687943081635V  1,0cm  0,003ms\n",
       "4  4   0,05026019088667496V  1,0cm  0,004ms"
      ]
     },
     "execution_count": 7,
     "metadata": {},
     "output_type": "execute_result"
    }
   ],
   "source": [
    "rr = pd.read_csv(\"unclean.csv\", delimiter=\";\",\n",
    "                 skiprows=6, names=['I', 'A', 'B', 'C'])\n",
    "rr.head()"
   ]
  },
  {
   "cell_type": "code",
   "execution_count": 8,
   "metadata": {},
   "outputs": [
    {
     "data": {
      "text/plain": [
       "Index(['I', 'A', 'B', 'C'], dtype='object')"
      ]
     },
     "execution_count": 8,
     "metadata": {},
     "output_type": "execute_result"
    }
   ],
   "source": [
    "rr.columns"
   ]
  },
  {
   "cell_type": "code",
   "execution_count": 9,
   "metadata": {},
   "outputs": [
    {
     "data": {
      "text/plain": [
       "(10000, 4)"
      ]
     },
     "execution_count": 9,
     "metadata": {},
     "output_type": "execute_result"
    }
   ],
   "source": [
    "rr.shape"
   ]
  },
  {
   "cell_type": "code",
   "execution_count": 10,
   "metadata": {},
   "outputs": [
    {
     "data": {
      "text/html": [
       "<div>\n",
       "<style scoped>\n",
       "    .dataframe tbody tr th:only-of-type {\n",
       "        vertical-align: middle;\n",
       "    }\n",
       "\n",
       "    .dataframe tbody tr th {\n",
       "        vertical-align: top;\n",
       "    }\n",
       "\n",
       "    .dataframe thead th {\n",
       "        text-align: right;\n",
       "    }\n",
       "</style>\n",
       "<table border=\"1\" class=\"dataframe\">\n",
       "  <thead>\n",
       "    <tr style=\"text-align: right;\">\n",
       "      <th></th>\n",
       "      <th>I</th>\n",
       "      <th>A</th>\n",
       "      <th>B</th>\n",
       "      <th>C</th>\n",
       "    </tr>\n",
       "  </thead>\n",
       "  <tbody>\n",
       "    <tr>\n",
       "      <th>0</th>\n",
       "      <td>0</td>\n",
       "      <td>0.000000</td>\n",
       "      <td>1.0</td>\n",
       "      <td>0.000</td>\n",
       "    </tr>\n",
       "    <tr>\n",
       "      <th>1</th>\n",
       "      <td>1</td>\n",
       "      <td>0.012566</td>\n",
       "      <td>1.0</td>\n",
       "      <td>0.001</td>\n",
       "    </tr>\n",
       "    <tr>\n",
       "      <th>2</th>\n",
       "      <td>2</td>\n",
       "      <td>0.025132</td>\n",
       "      <td>1.0</td>\n",
       "      <td>0.002</td>\n",
       "    </tr>\n",
       "    <tr>\n",
       "      <th>3</th>\n",
       "      <td>3</td>\n",
       "      <td>0.037697</td>\n",
       "      <td>1.0</td>\n",
       "      <td>0.003</td>\n",
       "    </tr>\n",
       "    <tr>\n",
       "      <th>4</th>\n",
       "      <td>4</td>\n",
       "      <td>0.050260</td>\n",
       "      <td>1.0</td>\n",
       "      <td>0.004</td>\n",
       "    </tr>\n",
       "  </tbody>\n",
       "</table>\n",
       "</div>"
      ],
      "text/plain": [
       "   I         A    B      C\n",
       "0  0  0.000000  1.0  0.000\n",
       "1  1  0.012566  1.0  0.001\n",
       "2  2  0.025132  1.0  0.002\n",
       "3  3  0.037697  1.0  0.003\n",
       "4  4  0.050260  1.0  0.004"
      ]
     },
     "execution_count": 10,
     "metadata": {},
     "output_type": "execute_result"
    }
   ],
   "source": [
    "rr[\"A\"] = pd.to_numeric(rr[\"A\"].str.replace(\",\", \".\").str.strip(\"V\"))\n",
    "rr[\"B\"] = pd.to_numeric(rr[\"B\"].str.replace(\",\", \".\").str.strip(\"cm\"))\n",
    "rr[\"C\"] = pd.to_numeric(rr[\"C\"].str.replace(\",\", \".\").str.strip(\"ms\"))\n",
    "rr.head()"
   ]
  },
  {
   "cell_type": "code",
   "execution_count": 13,
   "metadata": {},
   "outputs": [
    {
     "data": {
      "image/png": "[encoded data removed]",
      "text/plain": [
       "<Figure size 432x288 with 1 Axes>"
      ]
     },
     "metadata": {
      "needs_background": "light"
     },
     "output_type": "display_data"
    }
   ],
   "source": [
    "rr[\"A\"].plot();"
   ]
  },
  {
   "cell_type": "code",
   "execution_count": 14,
   "metadata": {},
   "outputs": [
    {
     "data": {
      "image/png": "[encoded data removed]",
      "text/plain": [
       "<Figure size 432x288 with 1 Axes>"
      ]
     },
     "metadata": {
      "needs_background": "light"
     },
     "output_type": "display_data"
    }
   ],
   "source": [
    "rr[\"B\"].plot();"
   ]
  },
  {
   "cell_type": "code",
   "execution_count": 15,
   "metadata": {
    "lines_to_next_cell": 2
   },
   "outputs": [
    {
     "data": {
      "image/png": "[encoded data removed]",
      "text/plain": [
       "<Figure size 432x288 with 1 Axes>"
      ]
     },
     "metadata": {
      "needs_background": "light"
     },
     "output_type": "display_data"
    }
   ],
   "source": [
    "rr[\"A\"].interpolate(method=\"polynomial\", order=7).plot();"
   ]
  },
  {
   "cell_type": "code",
   "execution_count": 16,
   "metadata": {
    "lines_to_next_cell": 2
   },
   "outputs": [
    {
     "data": {
      "image/png": "[encoded data removed]",
      "text/plain": [
       "<Figure size 432x288 with 1 Axes>"
      ]
     },
     "metadata": {
      "needs_background": "light"
     },
     "output_type": "display_data"
    }
   ],
   "source": [
    "rr[\"B\"].interpolate(method=\"nearest\").plot();"
   ]
  },
  {
   "cell_type": "markdown",
   "metadata": {
    "lines_to_next_cell": 2
   },
   "source": [
    "---\n",
    ">> **TASK 2**\n",
    ">>\n",
    ">> Recreate signals with python (3 points)\n",
    ">>\n",
    ">> a)\n",
    ">>\n",
    ">> ![waveA](waveA.png)\n",
    ">>\n",
    ">> b)\n",
    ">>\n",
    ">> ![waveB](waveB.png)\n",
    ">>\n",
    "---"
   ]
  },
  {
   "cell_type": "code",
   "execution_count": 17,
   "metadata": {},
   "outputs": [],
   "source": [
    "def gen_wave(Hz, sample_rate, length_sec, phase, amplitude):\n",
    "    t = np.linspace(0, length_sec, int(\n",
    "        length_sec * sample_rate), endpoint=False)\n",
    "    x = amplitude * np.sin(Hz * 2 * np.pi * t + phase)\n",
    "    return x"
   ]
  },
  {
   "cell_type": "code",
   "execution_count": 19,
   "metadata": {},
   "outputs": [
    {
     "data": {
      "image/png": "[encoded data removed]",
      "text/plain": [
       "<Figure size 432x288 with 1 Axes>"
      ]
     },
     "metadata": {
      "needs_background": "light"
     },
     "output_type": "display_data"
    }
   ],
   "source": [
    "sample_rate = 1000\n",
    "zeros = np.zeros(sample_rate * 1)\n",
    "wave = gen_wave(10, sample_rate, 0.95, 0, 0.2) + 1\n",
    "banga = np.concatenate((zeros, wave, zeros), axis=0)\n",
    "t = np.linspace(0, len(banga) / sample_rate, len(banga))\n",
    "plt.plot(t, banga)\n",
    "plt.title(\"wave A\")\n",
    "plt.xlabel(\"Time (s)\")\n",
    "plt.ylabel(\"Amplitude (V)\");"
   ]
  },
  {
   "cell_type": "markdown",
   "metadata": {},
   "source": [
    " wave B"
   ]
  },
  {
   "cell_type": "code",
   "execution_count": 20,
   "metadata": {},
   "outputs": [],
   "source": [
    "sample_rate = 1000\n",
    "x = np.random.random(sample_rate) / 10"
   ]
  },
  {
   "cell_type": "code",
   "execution_count": 22,
   "metadata": {
    "lines_to_next_cell": 2
   },
   "outputs": [
    {
     "data": {
      "image/png": "[encoded data removed]",
      "text/plain": [
       "<Figure size 432x288 with 1 Axes>"
      ]
     },
     "metadata": {
      "needs_background": "light"
     },
     "output_type": "display_data"
    }
   ],
   "source": [
    "s1 = 10\n",
    "t = np.arange(sample_rate)\n",
    "spike_train = np.exp(-(((t - (sample_rate * 0.5)) / (s1)) ** 2))\n",
    "wave = np.concatenate(\n",
    "    (\n",
    "        gen_wave(4, sample_rate, 0.5, 0, 0.1),\n",
    "        gen_wave(24, sample_rate, 0.5, 0, 0.1) + 0.5,\n",
    "    ),\n",
    "    axis=0,\n",
    ")\n",
    "wave += spike_train\n",
    "wave += x\n",
    "plt.plot(t / 1000, wave)\n",
    "plt.title(\"wave B\")\n",
    "plt.xlabel(\"Time (s)\")\n",
    "plt.ylabel(\"Amplitude (V)\");"
   ]
  },
  {
   "cell_type": "markdown",
   "metadata": {
    "lines_to_next_cell": 2
   },
   "source": [
    "---\n",
    ">> **TASK 3**\n",
    ">>\n",
    ">> ERP calculation (3 points)\n",
    ">>\n",
    ">> Equal probability (50/50) Go/NoGo paradigm (https://en.wikipedia.org/wiki/Go/no_go) with two types of stimuli was used, as described by Barry et al. (Barry et al. 2007). The auditory equiprobable Go/NoGo task requires a physical response to Go stimuli, while no response is required to NoGo stimuli. Subjects received 150 tones (75 of Go and 75 of NoGo type) of 50 ms duration, with 5 ms rise/fall times, presented via headphones at 60 dB SPL with a fixed stimulus onset asynchrony of 1100 ms. Half of the tones were 1000 Hz and half were 1500 Hz, presented in a random order. Participants were required to respond by pressing a button with their right index finger to the tone with the target frequency, which was balanced between subjects.\n",
    ">>\n",
    ">> - GO sound marked as 1\n",
    ">> - NoGo sound marked as 2\n",
    ">> - Button press marked as 10.\n",
    ">>\n",
    ">> Data:\n",
    ">>  - EEG: ~/Documents/bioa/exam/A3/*EEG.csv    data columns: Fz, Cz, Pz, Oz channels and time in milliseconds\n",
    ">>  - Event file in: ~/Documents/bioa/exam/A3/*events.csv    data columns: mark, time index\n",
    ">>\n",
    ">> MUST BE DONE IN PANDAS\n",
    ">>\n",
    ">> 1. Make a loop to find and import EEG and event files (make sure events EEG data is imported from the same subject).\n",
    ">> 2. Adjust imported files. Extract markers (-500, +1000 ms)\n",
    ">> 3. Average subjects EEG around given markers. 1 ERP for GO condition and 1 ERP for NOGO condition from 1 subject for every channel\n",
    ">> 4. Final pandas structure must hold all subjects ERPs from all channels\n",
    ">> 5. Calculate grand average (average between subjects) ERPs for all channels, subtract baseline. Plot results.\n",
    ">>\n",
    ">> More info on waveforms A3/falkenstein1999.pdf\n",
    ">>\n",
    "---"
   ]
  },
  {
   "cell_type": "code",
   "execution_count": 23,
   "metadata": {},
   "outputs": [],
   "source": [
    "datadir = \"/home/aleks/Documents/bioa/exam/A3/GNG/\""
   ]
  },
  {
   "cell_type": "code",
   "execution_count": 27,
   "metadata": {
    "lines_to_next_cell": 2
   },
   "outputs": [
    {
     "data": {
      "text/plain": [
       "['/home/aleks/Documents/bioa/exam/A3/GNG/10EEG.csv',\n",
       " '/home/aleks/Documents/bioa/exam/A3/GNG/1EEG.csv',\n",
       " '/home/aleks/Documents/bioa/exam/A3/GNG/2EEG.csv',\n",
       " '/home/aleks/Documents/bioa/exam/A3/GNG/3EEG.csv',\n",
       " '/home/aleks/Documents/bioa/exam/A3/GNG/4EEG.csv',\n",
       " '/home/aleks/Documents/bioa/exam/A3/GNG/5EEG.csv',\n",
       " '/home/aleks/Documents/bioa/exam/A3/GNG/6EEG.csv',\n",
       " '/home/aleks/Documents/bioa/exam/A3/GNG/7EEG.csv',\n",
       " '/home/aleks/Documents/bioa/exam/A3/GNG/8EEG.csv',\n",
       " '/home/aleks/Documents/bioa/exam/A3/GNG/9EEG.csv']"
      ]
     },
     "execution_count": 27,
     "metadata": {},
     "output_type": "execute_result"
    }
   ],
   "source": [
    "dataDir = pathlib.Path(datadir)\n",
    "dd = dataDir.glob(\"**/*EEG.csv\")\n",
    "ddd = [str(item) for item in dd]\n",
    "ddd.sort()\n",
    "ddd"
   ]
  },
  {
   "cell_type": "code",
   "execution_count": 28,
   "metadata": {
    "lines_to_next_cell": 2
   },
   "outputs": [
    {
     "data": {
      "text/plain": [
       "['/home/aleks/Documents/bioa/exam/A3/GNG/10event.csv',\n",
       " '/home/aleks/Documents/bioa/exam/A3/GNG/1event.csv',\n",
       " '/home/aleks/Documents/bioa/exam/A3/GNG/2event.csv',\n",
       " '/home/aleks/Documents/bioa/exam/A3/GNG/3event.csv',\n",
       " '/home/aleks/Documents/bioa/exam/A3/GNG/4event.csv',\n",
       " '/home/aleks/Documents/bioa/exam/A3/GNG/5event.csv',\n",
       " '/home/aleks/Documents/bioa/exam/A3/GNG/6event.csv',\n",
       " '/home/aleks/Documents/bioa/exam/A3/GNG/7event.csv',\n",
       " '/home/aleks/Documents/bioa/exam/A3/GNG/8event.csv',\n",
       " '/home/aleks/Documents/bioa/exam/A3/GNG/9event.csv']"
      ]
     },
     "execution_count": 28,
     "metadata": {},
     "output_type": "execute_result"
    }
   ],
   "source": [
    "dl = dataDir.glob(\"**/*event.csv\")\n",
    "dll = [str(item) for item in dl]\n",
    "dll.sort()\n",
    "dll"
   ]
  },
  {
   "cell_type": "code",
   "execution_count": 29,
   "metadata": {},
   "outputs": [
    {
     "data": {
      "text/plain": [
       "['subj1',\n",
       " 'subj2',\n",
       " 'subj3',\n",
       " 'subj4',\n",
       " 'subj5',\n",
       " 'subj6',\n",
       " 'subj7',\n",
       " 'subj8',\n",
       " 'subj9',\n",
       " 'subj10']"
      ]
     },
     "execution_count": 29,
     "metadata": {},
     "output_type": "execute_result"
    }
   ],
   "source": [
    "subject_array = [f\"subj{item}\" for item in np.arange(1, len(dll) + 1)]\n",
    "subject_array"
   ]
  },
  {
   "cell_type": "code",
   "execution_count": 30,
   "metadata": {
    "lines_to_next_cell": 2
   },
   "outputs": [
    {
     "data": {
      "text/html": [
       "<div>\n",
       "<style scoped>\n",
       "    .dataframe tbody tr th:only-of-type {\n",
       "        vertical-align: middle;\n",
       "    }\n",
       "\n",
       "    .dataframe tbody tr th {\n",
       "        vertical-align: top;\n",
       "    }\n",
       "\n",
       "    .dataframe thead tr th {\n",
       "        text-align: left;\n",
       "    }\n",
       "</style>\n",
       "<table border=\"1\" class=\"dataframe\">\n",
       "  <thead>\n",
       "    <tr>\n",
       "      <th>subject</th>\n",
       "      <th colspan=\"4\" halign=\"left\">subj1</th>\n",
       "      <th colspan=\"4\" halign=\"left\">subj2</th>\n",
       "      <th colspan=\"2\" halign=\"left\">subj3</th>\n",
       "      <th>...</th>\n",
       "      <th colspan=\"2\" halign=\"left\">subj8</th>\n",
       "      <th colspan=\"4\" halign=\"left\">subj9</th>\n",
       "      <th colspan=\"4\" halign=\"left\">subj10</th>\n",
       "    </tr>\n",
       "    <tr>\n",
       "      <th>index</th>\n",
       "      <th>Fz</th>\n",
       "      <th>Cz</th>\n",
       "      <th>Pz</th>\n",
       "      <th>Oz</th>\n",
       "      <th>Fz</th>\n",
       "      <th>Cz</th>\n",
       "      <th>Pz</th>\n",
       "      <th>Oz</th>\n",
       "      <th>Fz</th>\n",
       "      <th>Cz</th>\n",
       "      <th>...</th>\n",
       "      <th>Pz</th>\n",
       "      <th>Oz</th>\n",
       "      <th>Fz</th>\n",
       "      <th>Cz</th>\n",
       "      <th>Pz</th>\n",
       "      <th>Oz</th>\n",
       "      <th>Fz</th>\n",
       "      <th>Cz</th>\n",
       "      <th>Pz</th>\n",
       "      <th>Oz</th>\n",
       "    </tr>\n",
       "  </thead>\n",
       "  <tbody>\n",
       "    <tr>\n",
       "      <th>0</th>\n",
       "      <td>NaN</td>\n",
       "      <td>NaN</td>\n",
       "      <td>NaN</td>\n",
       "      <td>NaN</td>\n",
       "      <td>NaN</td>\n",
       "      <td>NaN</td>\n",
       "      <td>NaN</td>\n",
       "      <td>NaN</td>\n",
       "      <td>NaN</td>\n",
       "      <td>NaN</td>\n",
       "      <td>...</td>\n",
       "      <td>NaN</td>\n",
       "      <td>NaN</td>\n",
       "      <td>NaN</td>\n",
       "      <td>NaN</td>\n",
       "      <td>NaN</td>\n",
       "      <td>NaN</td>\n",
       "      <td>NaN</td>\n",
       "      <td>NaN</td>\n",
       "      <td>NaN</td>\n",
       "      <td>NaN</td>\n",
       "    </tr>\n",
       "    <tr>\n",
       "      <th>1</th>\n",
       "      <td>NaN</td>\n",
       "      <td>NaN</td>\n",
       "      <td>NaN</td>\n",
       "      <td>NaN</td>\n",
       "      <td>NaN</td>\n",
       "      <td>NaN</td>\n",
       "      <td>NaN</td>\n",
       "      <td>NaN</td>\n",
       "      <td>NaN</td>\n",
       "      <td>NaN</td>\n",
       "      <td>...</td>\n",
       "      <td>NaN</td>\n",
       "      <td>NaN</td>\n",
       "      <td>NaN</td>\n",
       "      <td>NaN</td>\n",
       "      <td>NaN</td>\n",
       "      <td>NaN</td>\n",
       "      <td>NaN</td>\n",
       "      <td>NaN</td>\n",
       "      <td>NaN</td>\n",
       "      <td>NaN</td>\n",
       "    </tr>\n",
       "    <tr>\n",
       "      <th>2</th>\n",
       "      <td>NaN</td>\n",
       "      <td>NaN</td>\n",
       "      <td>NaN</td>\n",
       "      <td>NaN</td>\n",
       "      <td>NaN</td>\n",
       "      <td>NaN</td>\n",
       "      <td>NaN</td>\n",
       "      <td>NaN</td>\n",
       "      <td>NaN</td>\n",
       "      <td>NaN</td>\n",
       "      <td>...</td>\n",
       "      <td>NaN</td>\n",
       "      <td>NaN</td>\n",
       "      <td>NaN</td>\n",
       "      <td>NaN</td>\n",
       "      <td>NaN</td>\n",
       "      <td>NaN</td>\n",
       "      <td>NaN</td>\n",
       "      <td>NaN</td>\n",
       "      <td>NaN</td>\n",
       "      <td>NaN</td>\n",
       "    </tr>\n",
       "    <tr>\n",
       "      <th>3</th>\n",
       "      <td>NaN</td>\n",
       "      <td>NaN</td>\n",
       "      <td>NaN</td>\n",
       "      <td>NaN</td>\n",
       "      <td>NaN</td>\n",
       "      <td>NaN</td>\n",
       "      <td>NaN</td>\n",
       "      <td>NaN</td>\n",
       "      <td>NaN</td>\n",
       "      <td>NaN</td>\n",
       "      <td>...</td>\n",
       "      <td>NaN</td>\n",
       "      <td>NaN</td>\n",
       "      <td>NaN</td>\n",
       "      <td>NaN</td>\n",
       "      <td>NaN</td>\n",
       "      <td>NaN</td>\n",
       "      <td>NaN</td>\n",
       "      <td>NaN</td>\n",
       "      <td>NaN</td>\n",
       "      <td>NaN</td>\n",
       "    </tr>\n",
       "    <tr>\n",
       "      <th>4</th>\n",
       "      <td>NaN</td>\n",
       "      <td>NaN</td>\n",
       "      <td>NaN</td>\n",
       "      <td>NaN</td>\n",
       "      <td>NaN</td>\n",
       "      <td>NaN</td>\n",
       "      <td>NaN</td>\n",
       "      <td>NaN</td>\n",
       "      <td>NaN</td>\n",
       "      <td>NaN</td>\n",
       "      <td>...</td>\n",
       "      <td>NaN</td>\n",
       "      <td>NaN</td>\n",
       "      <td>NaN</td>\n",
       "      <td>NaN</td>\n",
       "      <td>NaN</td>\n",
       "      <td>NaN</td>\n",
       "      <td>NaN</td>\n",
       "      <td>NaN</td>\n",
       "      <td>NaN</td>\n",
       "      <td>NaN</td>\n",
       "    </tr>\n",
       "    <tr>\n",
       "      <th>5</th>\n",
       "      <td>NaN</td>\n",
       "      <td>NaN</td>\n",
       "      <td>NaN</td>\n",
       "      <td>NaN</td>\n",
       "      <td>NaN</td>\n",
       "      <td>NaN</td>\n",
       "      <td>NaN</td>\n",
       "      <td>NaN</td>\n",
       "      <td>NaN</td>\n",
       "      <td>NaN</td>\n",
       "      <td>...</td>\n",
       "      <td>NaN</td>\n",
       "      <td>NaN</td>\n",
       "      <td>NaN</td>\n",
       "      <td>NaN</td>\n",
       "      <td>NaN</td>\n",
       "      <td>NaN</td>\n",
       "      <td>NaN</td>\n",
       "      <td>NaN</td>\n",
       "      <td>NaN</td>\n",
       "      <td>NaN</td>\n",
       "    </tr>\n",
       "    <tr>\n",
       "      <th>6</th>\n",
       "      <td>NaN</td>\n",
       "      <td>NaN</td>\n",
       "      <td>NaN</td>\n",
       "      <td>NaN</td>\n",
       "      <td>NaN</td>\n",
       "      <td>NaN</td>\n",
       "      <td>NaN</td>\n",
       "      <td>NaN</td>\n",
       "      <td>NaN</td>\n",
       "      <td>NaN</td>\n",
       "      <td>...</td>\n",
       "      <td>NaN</td>\n",
       "      <td>NaN</td>\n",
       "      <td>NaN</td>\n",
       "      <td>NaN</td>\n",
       "      <td>NaN</td>\n",
       "      <td>NaN</td>\n",
       "      <td>NaN</td>\n",
       "      <td>NaN</td>\n",
       "      <td>NaN</td>\n",
       "      <td>NaN</td>\n",
       "    </tr>\n",
       "    <tr>\n",
       "      <th>...</th>\n",
       "      <td>...</td>\n",
       "      <td>...</td>\n",
       "      <td>...</td>\n",
       "      <td>...</td>\n",
       "      <td>...</td>\n",
       "      <td>...</td>\n",
       "      <td>...</td>\n",
       "      <td>...</td>\n",
       "      <td>...</td>\n",
       "      <td>...</td>\n",
       "      <td>...</td>\n",
       "      <td>...</td>\n",
       "      <td>...</td>\n",
       "      <td>...</td>\n",
       "      <td>...</td>\n",
       "      <td>...</td>\n",
       "      <td>...</td>\n",
       "      <td>...</td>\n",
       "      <td>...</td>\n",
       "      <td>...</td>\n",
       "      <td>...</td>\n",
       "    </tr>\n",
       "    <tr>\n",
       "      <th>3065</th>\n",
       "      <td>NaN</td>\n",
       "      <td>NaN</td>\n",
       "      <td>NaN</td>\n",
       "      <td>NaN</td>\n",
       "      <td>NaN</td>\n",
       "      <td>NaN</td>\n",
       "      <td>NaN</td>\n",
       "      <td>NaN</td>\n",
       "      <td>NaN</td>\n",
       "      <td>NaN</td>\n",
       "      <td>...</td>\n",
       "      <td>NaN</td>\n",
       "      <td>NaN</td>\n",
       "      <td>NaN</td>\n",
       "      <td>NaN</td>\n",
       "      <td>NaN</td>\n",
       "      <td>NaN</td>\n",
       "      <td>NaN</td>\n",
       "      <td>NaN</td>\n",
       "      <td>NaN</td>\n",
       "      <td>NaN</td>\n",
       "    </tr>\n",
       "    <tr>\n",
       "      <th>3066</th>\n",
       "      <td>NaN</td>\n",
       "      <td>NaN</td>\n",
       "      <td>NaN</td>\n",
       "      <td>NaN</td>\n",
       "      <td>NaN</td>\n",
       "      <td>NaN</td>\n",
       "      <td>NaN</td>\n",
       "      <td>NaN</td>\n",
       "      <td>NaN</td>\n",
       "      <td>NaN</td>\n",
       "      <td>...</td>\n",
       "      <td>NaN</td>\n",
       "      <td>NaN</td>\n",
       "      <td>NaN</td>\n",
       "      <td>NaN</td>\n",
       "      <td>NaN</td>\n",
       "      <td>NaN</td>\n",
       "      <td>NaN</td>\n",
       "      <td>NaN</td>\n",
       "      <td>NaN</td>\n",
       "      <td>NaN</td>\n",
       "    </tr>\n",
       "    <tr>\n",
       "      <th>3067</th>\n",
       "      <td>NaN</td>\n",
       "      <td>NaN</td>\n",
       "      <td>NaN</td>\n",
       "      <td>NaN</td>\n",
       "      <td>NaN</td>\n",
       "      <td>NaN</td>\n",
       "      <td>NaN</td>\n",
       "      <td>NaN</td>\n",
       "      <td>NaN</td>\n",
       "      <td>NaN</td>\n",
       "      <td>...</td>\n",
       "      <td>NaN</td>\n",
       "      <td>NaN</td>\n",
       "      <td>NaN</td>\n",
       "      <td>NaN</td>\n",
       "      <td>NaN</td>\n",
       "      <td>NaN</td>\n",
       "      <td>NaN</td>\n",
       "      <td>NaN</td>\n",
       "      <td>NaN</td>\n",
       "      <td>NaN</td>\n",
       "    </tr>\n",
       "    <tr>\n",
       "      <th>3068</th>\n",
       "      <td>NaN</td>\n",
       "      <td>NaN</td>\n",
       "      <td>NaN</td>\n",
       "      <td>NaN</td>\n",
       "      <td>NaN</td>\n",
       "      <td>NaN</td>\n",
       "      <td>NaN</td>\n",
       "      <td>NaN</td>\n",
       "      <td>NaN</td>\n",
       "      <td>NaN</td>\n",
       "      <td>...</td>\n",
       "      <td>NaN</td>\n",
       "      <td>NaN</td>\n",
       "      <td>NaN</td>\n",
       "      <td>NaN</td>\n",
       "      <td>NaN</td>\n",
       "      <td>NaN</td>\n",
       "      <td>NaN</td>\n",
       "      <td>NaN</td>\n",
       "      <td>NaN</td>\n",
       "      <td>NaN</td>\n",
       "    </tr>\n",
       "    <tr>\n",
       "      <th>3069</th>\n",
       "      <td>NaN</td>\n",
       "      <td>NaN</td>\n",
       "      <td>NaN</td>\n",
       "      <td>NaN</td>\n",
       "      <td>NaN</td>\n",
       "      <td>NaN</td>\n",
       "      <td>NaN</td>\n",
       "      <td>NaN</td>\n",
       "      <td>NaN</td>\n",
       "      <td>NaN</td>\n",
       "      <td>...</td>\n",
       "      <td>NaN</td>\n",
       "      <td>NaN</td>\n",
       "      <td>NaN</td>\n",
       "      <td>NaN</td>\n",
       "      <td>NaN</td>\n",
       "      <td>NaN</td>\n",
       "      <td>NaN</td>\n",
       "      <td>NaN</td>\n",
       "      <td>NaN</td>\n",
       "      <td>NaN</td>\n",
       "    </tr>\n",
       "    <tr>\n",
       "      <th>3070</th>\n",
       "      <td>NaN</td>\n",
       "      <td>NaN</td>\n",
       "      <td>NaN</td>\n",
       "      <td>NaN</td>\n",
       "      <td>NaN</td>\n",
       "      <td>NaN</td>\n",
       "      <td>NaN</td>\n",
       "      <td>NaN</td>\n",
       "      <td>NaN</td>\n",
       "      <td>NaN</td>\n",
       "      <td>...</td>\n",
       "      <td>NaN</td>\n",
       "      <td>NaN</td>\n",
       "      <td>NaN</td>\n",
       "      <td>NaN</td>\n",
       "      <td>NaN</td>\n",
       "      <td>NaN</td>\n",
       "      <td>NaN</td>\n",
       "      <td>NaN</td>\n",
       "      <td>NaN</td>\n",
       "      <td>NaN</td>\n",
       "    </tr>\n",
       "    <tr>\n",
       "      <th>3071</th>\n",
       "      <td>NaN</td>\n",
       "      <td>NaN</td>\n",
       "      <td>NaN</td>\n",
       "      <td>NaN</td>\n",
       "      <td>NaN</td>\n",
       "      <td>NaN</td>\n",
       "      <td>NaN</td>\n",
       "      <td>NaN</td>\n",
       "      <td>NaN</td>\n",
       "      <td>NaN</td>\n",
       "      <td>...</td>\n",
       "      <td>NaN</td>\n",
       "      <td>NaN</td>\n",
       "      <td>NaN</td>\n",
       "      <td>NaN</td>\n",
       "      <td>NaN</td>\n",
       "      <td>NaN</td>\n",
       "      <td>NaN</td>\n",
       "      <td>NaN</td>\n",
       "      <td>NaN</td>\n",
       "      <td>NaN</td>\n",
       "    </tr>\n",
       "  </tbody>\n",
       "</table>\n",
       "<p>3072 rows × 40 columns</p>\n",
       "</div>"
      ],
      "text/plain": [
       "subject subj1                subj2                subj3       ... subj8       \\\n",
       "index      Fz   Cz   Pz   Oz    Fz   Cz   Pz   Oz    Fz   Cz  ...    Pz   Oz   \n",
       "0         NaN  NaN  NaN  NaN   NaN  NaN  NaN  NaN   NaN  NaN  ...   NaN  NaN   \n",
       "1         NaN  NaN  NaN  NaN   NaN  NaN  NaN  NaN   NaN  NaN  ...   NaN  NaN   \n",
       "2         NaN  NaN  NaN  NaN   NaN  NaN  NaN  NaN   NaN  NaN  ...   NaN  NaN   \n",
       "3         NaN  NaN  NaN  NaN   NaN  NaN  NaN  NaN   NaN  NaN  ...   NaN  NaN   \n",
       "4         NaN  NaN  NaN  NaN   NaN  NaN  NaN  NaN   NaN  NaN  ...   NaN  NaN   \n",
       "5         NaN  NaN  NaN  NaN   NaN  NaN  NaN  NaN   NaN  NaN  ...   NaN  NaN   \n",
       "6         NaN  NaN  NaN  NaN   NaN  NaN  NaN  NaN   NaN  NaN  ...   NaN  NaN   \n",
       "...       ...  ...  ...  ...   ...  ...  ...  ...   ...  ...  ...   ...  ...   \n",
       "3065      NaN  NaN  NaN  NaN   NaN  NaN  NaN  NaN   NaN  NaN  ...   NaN  NaN   \n",
       "3066      NaN  NaN  NaN  NaN   NaN  NaN  NaN  NaN   NaN  NaN  ...   NaN  NaN   \n",
       "3067      NaN  NaN  NaN  NaN   NaN  NaN  NaN  NaN   NaN  NaN  ...   NaN  NaN   \n",
       "3068      NaN  NaN  NaN  NaN   NaN  NaN  NaN  NaN   NaN  NaN  ...   NaN  NaN   \n",
       "3069      NaN  NaN  NaN  NaN   NaN  NaN  NaN  NaN   NaN  NaN  ...   NaN  NaN   \n",
       "3070      NaN  NaN  NaN  NaN   NaN  NaN  NaN  NaN   NaN  NaN  ...   NaN  NaN   \n",
       "3071      NaN  NaN  NaN  NaN   NaN  NaN  NaN  NaN   NaN  NaN  ...   NaN  NaN   \n",
       "\n",
       "subject subj9                subj10                 \n",
       "index      Fz   Cz   Pz   Oz     Fz   Cz   Pz   Oz  \n",
       "0         NaN  NaN  NaN  NaN    NaN  NaN  NaN  NaN  \n",
       "1         NaN  NaN  NaN  NaN    NaN  NaN  NaN  NaN  \n",
       "2         NaN  NaN  NaN  NaN    NaN  NaN  NaN  NaN  \n",
       "3         NaN  NaN  NaN  NaN    NaN  NaN  NaN  NaN  \n",
       "4         NaN  NaN  NaN  NaN    NaN  NaN  NaN  NaN  \n",
       "5         NaN  NaN  NaN  NaN    NaN  NaN  NaN  NaN  \n",
       "6         NaN  NaN  NaN  NaN    NaN  NaN  NaN  NaN  \n",
       "...       ...  ...  ...  ...    ...  ...  ...  ...  \n",
       "3065      NaN  NaN  NaN  NaN    NaN  NaN  NaN  NaN  \n",
       "3066      NaN  NaN  NaN  NaN    NaN  NaN  NaN  NaN  \n",
       "3067      NaN  NaN  NaN  NaN    NaN  NaN  NaN  NaN  \n",
       "3068      NaN  NaN  NaN  NaN    NaN  NaN  NaN  NaN  \n",
       "3069      NaN  NaN  NaN  NaN    NaN  NaN  NaN  NaN  \n",
       "3070      NaN  NaN  NaN  NaN    NaN  NaN  NaN  NaN  \n",
       "3071      NaN  NaN  NaN  NaN    NaN  NaN  NaN  NaN  \n",
       "\n",
       "[3072 rows x 40 columns]"
      ]
     },
     "execution_count": 30,
     "metadata": {},
     "output_type": "execute_result"
    }
   ],
   "source": [
    "columns = pd.MultiIndex.from_product(\n",
    "    [subject_array, [\"Fz\", \"Cz\", \"Pz\", \"Oz\"]], names=[\"subject\", \"index\"],\n",
    ")\n",
    "gng_go = pd.DataFrame(columns=columns, index=np.arange(0, 3072))\n",
    "gng_go"
   ]
  },
  {
   "cell_type": "code",
   "execution_count": 31,
   "metadata": {
    "lines_to_next_cell": 2
   },
   "outputs": [],
   "source": [
    "gng_nogo = pd.DataFrame(columns=columns, index=np.arange(0, 3072))\n",
    "subj = 0\n",
    "for eeg_name, event_name in zip(ddd, dll):\n",
    "    subj += 1\n",
    "    #  eeg_name = ddd[1]\n",
    "    #  event_name = dll[1]\n",
    "    subj_name = f\"subj{subj}\"\n",
    "    EEGdata = pd.read_csv(eeg_name, names=[\"Fz\", \"Cz\", \"Pz\", \"Oz\", \"time\"])\n",
    "    #  EEGdata.head()\n",
    "    events = pd.read_csv(event_name, names=[\"event\", \"time_index\"], dtype=int,)\n",
    "    (events[\"event\"].shift(-1) - events[\"event\"])\n",
    "    go = events[(events[\"event\"].shift(-1) - events[\"event\"]) == 9]\n",
    "    #  go.shape\n",
    "    #  go.head()\n",
    "    nogo = events[(events[\"event\"].shift(-1) - events[\"event\"]) == -1]\n",
    "    nogo2 = events[(events[\"event\"].shift(-1) - events[\"event\"]) == 0]\n",
    "    nogo = nogo.append(nogo2).sort_index()\n",
    "    nogo = nogo[nogo[\"event\"] == 2]\n",
    "    #  nogo.shape\n",
    "    #  nogo.head()\n",
    "    # ERP limits - 500 + 1000 ms\n",
    "    fs = int(round(EEGdata[\"time\"].shape[0] / EEGdata[\"time\"].iloc[-1] * 1000))\n",
    "    idx500 = int(fs * 0.5)\n",
    "    idx1000 = int(fs * 1)\n",
    "    #  ERP\n",
    "    go_start = (go[\"time_index\"] - idx500).to_list()\n",
    "    go_end = (go[\"time_index\"] + idx1000).to_list()\n",
    "    nogo_start = (nogo[\"time_index\"] - idx500).to_list()\n",
    "    nogo_end = (nogo[\"time_index\"] + idx1000).to_list()\n",
    "    ND = pd.DataFrame()\n",
    "    for go_st, go_e in zip(go_start, go_end):\n",
    "        ND = ND.append(EEGdata[go_st:go_e].reset_index()\n",
    "                       ).drop(labels=\"index\", axis=1)\n",
    "    #  ND.head()\n",
    "    #  ND.shape[0] / 75\n",
    "    avg_go = ND.reset_index().groupby(\"index\").mean()\n",
    "    avg_go[\"time\"] = np.linspace(-500, 1000, 3072)\n",
    "    ND = pd.DataFrame()\n",
    "    for nogo_st, nogo_e in zip(nogo_start, nogo_end):\n",
    "        ND = ND.append(EEGdata[nogo_st:nogo_e].reset_index()).drop(\n",
    "            labels=\"index\", axis=1\n",
    "        )\n",
    "    avg_nogo = ND.reset_index().groupby(\"index\").mean()\n",
    "    avg_nogo[\"time\"] = np.linspace(-500, 1000, 3072)\n",
    "    #  baseline correction\n",
    "    gng_go[subj_name] = avg_go.loc[:, \"Fz\":\"Oz\"] - \\\n",
    "        avg_go.loc[0:1000, \"Fz\":\"Oz\"].mean()\n",
    "    gng_nogo[subj_name] = (\n",
    "        avg_nogo.loc[:, \"Fz\":\"Oz\"] - avg_nogo.loc[0:1000, \"Fz\":\"Oz\"].mean()\n",
    "    )"
   ]
  },
  {
   "cell_type": "markdown",
   "metadata": {},
   "source": [
    "Grand AVG"
   ]
  },
  {
   "cell_type": "code",
   "execution_count": 1,
   "metadata": {},
   "outputs": [
    {
     "ename": "NameError",
     "evalue": "name 'gng_go' is not defined",
     "output_type": "error",
     "traceback": [
      "\u001b[0;31m---------------------------------------------------------------------------\u001b[0m",
      "\u001b[0;31mNameError\u001b[0m                                 Traceback (most recent call last)",
      "\u001b[0;32m<ipython-input-1-57e2e400fd94>\u001b[0m in \u001b[0;36m<module>\u001b[0;34m\u001b[0m\n\u001b[1;32m      3\u001b[0m ax.plot(\n\u001b[1;32m      4\u001b[0m     \u001b[0mnp\u001b[0m\u001b[0;34m.\u001b[0m\u001b[0mlinspace\u001b[0m\u001b[0;34m(\u001b[0m\u001b[0;34m-\u001b[0m\u001b[0;36m500\u001b[0m\u001b[0;34m,\u001b[0m \u001b[0;36m1000\u001b[0m\u001b[0;34m,\u001b[0m \u001b[0;36m3072\u001b[0m\u001b[0;34m)\u001b[0m\u001b[0;34m,\u001b[0m\u001b[0;34m\u001b[0m\u001b[0;34m\u001b[0m\u001b[0m\n\u001b[0;32m----> 5\u001b[0;31m     \u001b[0mgng_go\u001b[0m\u001b[0;34m.\u001b[0m\u001b[0mloc\u001b[0m\u001b[0;34m[\u001b[0m\u001b[0;34m:\u001b[0m\u001b[0;34m,\u001b[0m \u001b[0midx\u001b[0m\u001b[0;34m[\u001b[0m\u001b[0;34m:\u001b[0m\u001b[0;34m,\u001b[0m \u001b[0;34m\"Fz\"\u001b[0m\u001b[0;34m]\u001b[0m\u001b[0;34m]\u001b[0m\u001b[0;34m.\u001b[0m\u001b[0mmean\u001b[0m\u001b[0;34m(\u001b[0m\u001b[0maxis\u001b[0m\u001b[0;34m=\u001b[0m\u001b[0;36m1\u001b[0m\u001b[0;34m)\u001b[0m\u001b[0;34m.\u001b[0m\u001b[0mto_numpy\u001b[0m\u001b[0;34m(\u001b[0m\u001b[0;34m)\u001b[0m\u001b[0;34m,\u001b[0m\u001b[0;34m\u001b[0m\u001b[0;34m\u001b[0m\u001b[0m\n\u001b[0m\u001b[1;32m      6\u001b[0m     \u001b[0mlabel\u001b[0m\u001b[0;34m=\u001b[0m\u001b[0;34m\"Go Fz\"\u001b[0m\u001b[0;34m,\u001b[0m\u001b[0;34m\u001b[0m\u001b[0;34m\u001b[0m\u001b[0m\n\u001b[1;32m      7\u001b[0m )\n",
      "\u001b[0;31mNameError\u001b[0m: name 'gng_go' is not defined"
     ]
    },
    {
     "data": {
      "image/png": "[encoded data removed]",
      "text/plain": [
       "<Figure size 432x288 with 1 Axes>"
      ]
     },
     "metadata": {
      "needs_background": "light"
     },
     "output_type": "display_data"
    }
   ],
   "source": [
    "fig = plt.figure()\n",
    "ax = plt.axes()\n",
    "ax.plot(\n",
    "    np.linspace(-500, 1000, 3072),\n",
    "    gng_go.loc[:, idx[:, \"Fz\"]].mean(axis=1).to_numpy(),\n",
    "    label=\"Go Fz\",\n",
    ")\n",
    "ax.plot(\n",
    "    np.linspace(-500, 1000, 3072),\n",
    "    gng_nogo.loc[:, idx[:, \"Fz\"]].mean(axis=1).to_numpy(),\n",
    "    label=\"NoGo Fz\",\n",
    ")\n",
    "ax.set_xlabel(\"time (ms)\")  # add x label\n",
    "ax.vlines(0, -3, 2, linestyle=\"--\", color=\"gray\")\n",
    "ax.set_xlim(-100, 1000)\n",
    "plt.legend();\n",
    "#  fig.savefig(\"Fz.png\")"
   ]
  },
  {
   "cell_type": "code",
   "execution_count": 36,
   "metadata": {},
   "outputs": [
    {
     "data": {
      "image/png": "[encoded data removed]",
      "text/plain": [
       "<Figure size 432x288 with 1 Axes>"
      ]
     },
     "metadata": {
      "needs_background": "light"
     },
     "output_type": "display_data"
    }
   ],
   "source": [
    "fig = plt.figure()\n",
    "ax = plt.axes()\n",
    "ax.plot(\n",
    "    np.linspace(-500, 1000, 3072),\n",
    "    gng_go.loc[:, idx[:, \"Pz\"]].mean(axis=1).to_numpy(),\n",
    "    label=\"Go Pz\",\n",
    ")\n",
    "ax.plot(\n",
    "    np.linspace(-500, 1000, 3072),\n",
    "    gng_nogo.loc[:, idx[:, \"Pz\"]].mean(axis=1).to_numpy(),\n",
    "    label=\"NoGo Pz\",\n",
    ")\n",
    "ax.set_xlabel(\"time (ms)\")  # add x label\n",
    "ax.vlines(0, -3, 2, linestyle=\"--\", color=\"gray\")\n",
    "ax.set_xlim(-100, 1000)\n",
    "plt.legend();\n",
    "#  fig.savefig(\"Pz.png\")"
   ]
  },
  {
   "cell_type": "code",
   "execution_count": 34,
   "metadata": {
    "lines_to_next_cell": 2
   },
   "outputs": [
    {
     "data": {
      "image/png": "[encoded data removed]",
      "text/plain": [
       "<Figure size 432x288 with 1 Axes>"
      ]
     },
     "metadata": {
      "needs_background": "light"
     },
     "output_type": "display_data"
    }
   ],
   "source": [
    "fig = plt.figure()\n",
    "ax = plt.axes()\n",
    "ax.plot(\n",
    "    np.linspace(-500, 1000, 3072),\n",
    "    gng_go.loc[:, idx[:, \"Oz\"]].mean(axis=1).to_numpy(),\n",
    "    label=\"Go Oz\",\n",
    ")\n",
    "ax.plot(\n",
    "    np.linspace(-500, 1000, 3072),\n",
    "    gng_nogo.loc[:, idx[:, \"Oz\"]].mean(axis=1).to_numpy(),\n",
    "    label=\"NoGo Oz\",\n",
    ")\n",
    "ax.set_xlabel(\"time (ms)\")  # add x label\n",
    "ax.vlines(0, -3, 2, linestyle=\"--\", color=\"gray\")\n",
    "ax.set_xlim(-100, 1000)\n",
    "plt.legend();\n",
    "#  fig.savefig(\"Oz.png\")"
   ]
  },
  {
   "cell_type": "code",
   "execution_count": 35,
   "metadata": {},
   "outputs": [
    {
     "data": {
      "image/png": "[encoded data removed]",
      "text/plain": [
       "<Figure size 432x288 with 1 Axes>"
      ]
     },
     "metadata": {
      "needs_background": "light"
     },
     "output_type": "display_data"
    }
   ],
   "source": [
    "fig = plt.figure()\n",
    "ax = plt.axes()\n",
    "ax.plot(\n",
    "    np.linspace(-500, 1000, 3072),\n",
    "    gng_go.loc[:, idx[:, \"Cz\"]].mean(axis=1).to_numpy(),\n",
    "    label=\"Go Cz\",\n",
    ")\n",
    "ax.plot(\n",
    "    np.linspace(-500, 1000, 3072),\n",
    "    gng_nogo.loc[:, idx[:, \"Cz\"]].mean(axis=1).to_numpy(),\n",
    "    label=\"NoGo Cz\",\n",
    ")\n",
    "ax.set_xlabel(\"time (ms)\")  # add x label\n",
    "ax.vlines(0, -3, 2, linestyle=\"--\", color=\"gray\")\n",
    "ax.set_xlim(-100, 1000)\n",
    "plt.legend();\n",
    "#  fig.savefig(\"Cz.png\")"
   ]
  },
  {
   "cell_type": "code",
   "execution_count": null,
   "metadata": {},
   "outputs": [],
   "source": []
  }
 ],
 "metadata": {
  "jupytext": {
   "cell_metadata_filter": "-all",
   "formats": "ipynb,py"
  },
  "kernelspec": {
   "display_name": "Python 3",
   "language": "python",
   "name": "python3"
  },
  "language_info": {
   "codemirror_mode": {
    "name": "ipython",
    "version": 3
   },
   "file_extension": ".py",
   "mimetype": "text/x-python",
   "name": "python",
   "nbconvert_exporter": "python",
   "pygments_lexer": "ipython3",
   "version": "3.8.5"
  }
 },
 "nbformat": 4,
 "nbformat_minor": 4
}
